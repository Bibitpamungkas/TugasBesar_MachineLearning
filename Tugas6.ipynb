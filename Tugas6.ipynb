{
  "nbformat": 4,
  "nbformat_minor": 0,
  "metadata": {
    "colab": {
      "name": "Tugas6.ipynb",
      "provenance": [],
      "collapsed_sections": [],
      "include_colab_link": true
    },
    "kernelspec": {
      "name": "python3",
      "display_name": "Python 3"
    },
    "language_info": {
      "name": "python"
    },
    "accelerator": "GPU"
  },
  "cells": [
    {
      "cell_type": "markdown",
      "metadata": {
        "id": "view-in-github",
        "colab_type": "text"
      },
      "source": [
        "<a href=\"https://colab.research.google.com/github/Bibitpamungkas/TugasBesar_MachineLearning/blob/kelompok/Tugas6.ipynb\" target=\"_parent\"><img src=\"https://colab.research.google.com/assets/colab-badge.svg\" alt=\"Open In Colab\"/></a>"
      ]
    },
    {
      "cell_type": "code",
      "metadata": {
        "colab": {
          "base_uri": "https://localhost:8080/"
        },
        "id": "TYG8HEb3Dkpa",
        "outputId": "ae6abc1b-9000-4214-c41b-1533785d536e"
      },
      "source": [
        "from google.colab import drive\n",
        "drive.mount(\"/content/gdrive\", force_remount=True)"
      ],
      "execution_count": null,
      "outputs": [
        {
          "output_type": "stream",
          "name": "stdout",
          "text": [
            "Mounted at /content/gdrive\n"
          ]
        }
      ]
    },
    {
      "cell_type": "code",
      "metadata": {
        "colab": {
          "base_uri": "https://localhost:8080/"
        },
        "id": "5SJk9t-zKYGt",
        "outputId": "ba2c5f6a-2518-4a85-c8aa-5660ecab352c"
      },
      "source": [
        "!pip install kaggle"
      ],
      "execution_count": null,
      "outputs": [
        {
          "output_type": "stream",
          "name": "stdout",
          "text": [
            "Requirement already satisfied: kaggle in /usr/local/lib/python3.7/dist-packages (1.5.12)\n",
            "Requirement already satisfied: six>=1.10 in /usr/local/lib/python3.7/dist-packages (from kaggle) (1.15.0)\n",
            "Requirement already satisfied: urllib3 in /usr/local/lib/python3.7/dist-packages (from kaggle) (1.24.3)\n",
            "Requirement already satisfied: requests in /usr/local/lib/python3.7/dist-packages (from kaggle) (2.23.0)\n",
            "Requirement already satisfied: python-dateutil in /usr/local/lib/python3.7/dist-packages (from kaggle) (2.8.2)\n",
            "Requirement already satisfied: python-slugify in /usr/local/lib/python3.7/dist-packages (from kaggle) (5.0.2)\n",
            "Requirement already satisfied: tqdm in /usr/local/lib/python3.7/dist-packages (from kaggle) (4.62.3)\n",
            "Requirement already satisfied: certifi in /usr/local/lib/python3.7/dist-packages (from kaggle) (2021.10.8)\n",
            "Requirement already satisfied: text-unidecode>=1.3 in /usr/local/lib/python3.7/dist-packages (from python-slugify->kaggle) (1.3)\n",
            "Requirement already satisfied: chardet<4,>=3.0.2 in /usr/local/lib/python3.7/dist-packages (from requests->kaggle) (3.0.4)\n",
            "Requirement already satisfied: idna<3,>=2.5 in /usr/local/lib/python3.7/dist-packages (from requests->kaggle) (2.10)\n"
          ]
        }
      ]
    },
    {
      "cell_type": "code",
      "metadata": {
        "colab": {
          "base_uri": "https://localhost:8080/"
        },
        "id": "PZxjzC7wKrzl",
        "outputId": "2ed740df-3ba5-4749-90b1-4b962e52fbc8"
      },
      "source": [
        "%cd /content/gdrive/MyDrive/content/sample_data/"
      ],
      "execution_count": null,
      "outputs": [
        {
          "output_type": "stream",
          "name": "stdout",
          "text": [
            "[Errno 2] No such file or directory: '/content/gdrive/MyDrive/content/sample_data/'\n",
            "/content\n"
          ]
        }
      ]
    },
    {
      "cell_type": "code",
      "metadata": {
        "id": "DyAxXUctK6e8"
      },
      "source": [
        "import os\n",
        "os.environ['KAGGLE_CONFIG_DIR'] = \"/tmp/\""
      ],
      "execution_count": null,
      "outputs": []
    },
    {
      "cell_type": "code",
      "metadata": {
        "id": "yULFpJ0IK9ac"
      },
      "source": [
        "# jika anda ingin menggunakan kaggle API untuk mengunduh dataset gunakan\n",
        "# kode berikut untuk membantu anda membuat config kaggle.json\n",
        "# pastikan anda mendaftar akun kaggle terlebih dahulu\n",
        "# kemudian menuju halaman my account dan buat token API anda\n",
        "\n",
        "api_token = {\"username\":\"bibitpamungkas\",\"key\":\"0b4a500fd9a858ee152de296398002ab\"}\n",
        "import json\n",
        "import zipfile\n",
        "import os\n",
        "with open('/tmp/kaggle.json', 'w') as file:\n",
        "    json.dump(api_token, file)\n",
        "!chmod 600 /tmp/kaggle.json"
      ],
      "execution_count": null,
      "outputs": []
    },
    {
      "cell_type": "code",
      "metadata": {
        "colab": {
          "base_uri": "https://localhost:8080/"
        },
        "id": "gCgARMkrLBjE",
        "outputId": "d3b25eb3-ee95-4ba3-88b1-f08d734c8b09"
      },
      "source": [
        "!kaggle datasets download -d jtiptj/chest-xray-pneumoniacovid19tuberculosis"
      ],
      "execution_count": null,
      "outputs": [
        {
          "output_type": "stream",
          "name": "stdout",
          "text": [
            "Downloading chest-xray-pneumoniacovid19tuberculosis.zip to /content\n",
            " 99% 1.73G/1.74G [00:37<00:00, 40.8MB/s]\n",
            "100% 1.74G/1.74G [00:37<00:00, 49.3MB/s]\n"
          ]
        }
      ]
    },
    {
      "cell_type": "code",
      "metadata": {
        "id": "4rtnNrFsEDIf"
      },
      "source": [
        "# Ekstrak dataset\n",
        "\n",
        "import os\n",
        "import zipfile\n",
        "\n",
        "os.makedirs('/tmp/chest-xray-pneumoniacovid19tuberculosis')\n",
        "\n",
        "local_zip = '/content/chest-xray-pneumoniacovid19tuberculosis.zip'\n",
        "zip_ref = zipfile.ZipFile(local_zip, 'r')\n",
        "zip_ref.extractall('/tmp/chest-xray-pneumoniacovid19tuberculosis')\n",
        "zip_ref.close()"
      ],
      "execution_count": null,
      "outputs": []
    },
    {
      "cell_type": "code",
      "metadata": {
        "id": "y9L_1kqnEEjc",
        "colab": {
          "base_uri": "https://localhost:8080/"
        },
        "outputId": "46340666-1f95-4ee9-dd63-56cd0ab80f20"
      },
      "source": [
        "# Definisikan path untuk data train dan data validation\n",
        "\n",
        "import os\n",
        "base_dir = '/tmp/chest-xray-pneumoniacovid19tuberculosis'\n",
        "train = os.path.join(base_dir,'train')\n",
        "validation = os.path.join(base_dir,'val')\n",
        "test = os.path.join(base_dir,'test')\n",
        "\n",
        "c19_tr = os.path.join(train,'COVID19')\n",
        "c19_va = os.path.join(validation,'COVID19')\n",
        "c19_ts = os.path.join(test,'COVID19')\n",
        "\n",
        "nr_tr = os.path.join(train,'NORMAL')\n",
        "nr_va = os.path.join(validation,'NORMAL')\n",
        "nr_ts = os.path.join(test,'NORMAL')\n",
        "\n",
        "pn_tr = os.path.join(train,'PNEUMONIA')\n",
        "pn_va = os.path.join(validation,'PNEUMONIA')\n",
        "pn_ts = os.path.join(test,'PNEUMONIA')\n",
        "\n",
        "tb_tr = os.path.join(train,'TURBERCULOSIS')\n",
        "tb_va = os.path.join(validation,'TURBERCULOSIS')\n",
        "tb_ts = os.path.join(test,'TURBERCULOSIS')\n",
        "\n",
        "#file training dan validation\n",
        "file_train_c19 = os.listdir(c19_tr)\n",
        "file_validation_c19 = os.listdir(c19_va)\n",
        "file_test_c19 = os.listdir(c19_ts)\n",
        "file_train_nr = os.listdir(nr_tr)\n",
        "file_validation_nr = os.listdir(nr_va)\n",
        "file_test_nr = os.listdir(nr_ts)\n",
        "file_train_pn = os.listdir(pn_tr)\n",
        "file_validation_pn = os.listdir(pn_va)\n",
        "file_test_pn = os.listdir(pn_ts)\n",
        "file_train_tb = os.listdir(tb_tr)\n",
        "file_validation_tb = os.listdir(tb_va)\n",
        "file_test_tb = os.listdir(tb_ts)\n",
        "\n",
        "#Print jumlah data training dan validation\n",
        "print(\"Data COVID19 Train : \" + str(len(file_train_c19)))\n",
        "print(\"Data COVID19 Validation : \" + str(len(file_validation_c19)))\n",
        "print(\"Data COVID19 Test : \" + str(len(file_test_c19)))\n",
        "print(\"Data NORMAL Train : \" + str(len(file_train_nr)))\n",
        "print(\"Data NORMAL Validation : \" + str(len(file_validation_nr)))\n",
        "print(\"Data NORMAL Test : \" + str(len(file_test_nr)))\n",
        "print(\"Data PNEUMONIA Train : \" + str(len(file_train_pn)))\n",
        "print(\"Data PNEUMONIA Validation : \" + str(len(file_validation_pn)))\n",
        "print(\"Data PNEUMONIA Test : \" + str(len(file_test_pn)))\n",
        "print(\"Data TURBERCULOSIS Train : \" + str(len(file_train_tb)))\n",
        "print(\"Data TURBERCULOSIS Validation : \" + str(len(file_validation_tb)))\n",
        "print(\"Data TURBERCULOSIS Test : \" + str(len(file_test_tb)))"
      ],
      "execution_count": null,
      "outputs": [
        {
          "output_type": "stream",
          "name": "stdout",
          "text": [
            "Data COVID19 Train : 460\n",
            "Data COVID19 Validation : 10\n",
            "Data COVID19 Test : 106\n",
            "Data NORMAL Train : 1341\n",
            "Data NORMAL Validation : 8\n",
            "Data NORMAL Test : 234\n",
            "Data PNEUMONIA Train : 3875\n",
            "Data PNEUMONIA Validation : 8\n",
            "Data PNEUMONIA Test : 390\n",
            "Data TURBERCULOSIS Train : 650\n",
            "Data TURBERCULOSIS Validation : 12\n",
            "Data TURBERCULOSIS Test : 41\n"
          ]
        }
      ]
    },
    {
      "cell_type": "code",
      "metadata": {
        "id": "iaWEvIEoMw_b"
      },
      "source": [
        "import cv2\n",
        "import numpy as np\n",
        "\n",
        "# Gather data train\n",
        "train_data = []\n",
        "train_label = []\n",
        "for r, d, f in os.walk(base_dir):\n",
        "    for file in f:\n",
        "        if \".jpg\" in file:\n",
        "            imagePath = os.path.join(r, file)\n",
        "            image = cv2.imread(imagePath)\n",
        "            image = cv2.resize(image, (150,150))\n",
        "            train_data.append(image)\n",
        "            label = imagePath.split(os.path.sep)[-2]\n",
        "            train_label.append(label)\n",
        "\n",
        "train_data = np.array(train_data)\n",
        "train_label = np.array(train_label)"
      ],
      "execution_count": null,
      "outputs": []
    },
    {
      "cell_type": "code",
      "metadata": {
        "id": "xpHUE-HuMxur"
      },
      "source": [
        "# Gather data validation\n",
        "test_data = []\n",
        "test_label = []\n",
        "for r, d, f in os.walk(base_dir):\n",
        "    for file in f:\n",
        "        if \".jpg\" in file:\n",
        "            imagePath = os.path.join(r, file)\n",
        "            image = cv2.imread(imagePath)\n",
        "            image = cv2.resize(image, (150,150))\n",
        "            test_data.append(image)\n",
        "            label = imagePath.split(os.path.sep)[-2]\n",
        "            test_label.append(label)\n",
        "\n",
        "test_data = np.array(test_data)\n",
        "test_label = np.array(test_label)"
      ],
      "execution_count": null,
      "outputs": []
    },
    {
      "cell_type": "markdown",
      "metadata": {
        "id": "kiXbwrN3ELqv"
      },
      "source": [
        "<h3>Data Preprocessing</h3>"
      ]
    },
    {
      "cell_type": "code",
      "metadata": {
        "colab": {
          "base_uri": "https://localhost:8080/"
        },
        "id": "m5VhnvtrEI1I",
        "outputId": "22ff6744-a577-4185-a532-740140153bba"
      },
      "source": [
        "# Tampilkan shape dari data train dan data validation\n",
        "print(\"Train Data = \", train_data.shape)\n",
        "print(\"Train Label = \", train_label.shape)\n",
        "print(\"Test Data = \", test_data.shape)\n",
        "print(\"Test Label = \", test_label.shape)"
      ],
      "execution_count": null,
      "outputs": [
        {
          "output_type": "stream",
          "name": "stdout",
          "text": [
            "Train Data =  (576, 150, 150, 3)\n",
            "Train Label =  (576,)\n",
            "Test Data =  (576, 150, 150, 3)\n",
            "Test Label =  (576,)\n"
          ]
        }
      ]
    },
    {
      "cell_type": "code",
      "metadata": {
        "colab": {
          "base_uri": "https://localhost:8080/"
        },
        "id": "q1LVp6dCENne",
        "outputId": "c8b58622-8f95-42cf-c768-b2231bf90aec"
      },
      "source": [
        "# Normalisasi dataset\n",
        "print(\"Data sebelum di-normalisasi \", train_data[0][0][0])\n",
        "\n",
        "x_train = train_data.astype('float32') / 255.0\n",
        "x_test = test_data.astype('float32') / 255.0\n",
        "print(\"Data setelah di-normalisasi \", x_train[0][0][0])"
      ],
      "execution_count": null,
      "outputs": [
        {
          "output_type": "stream",
          "name": "stdout",
          "text": [
            "Data sebelum di-normalisasi  [88 88 88]\n",
            "Data setelah di-normalisasi  [0.34509805 0.34509805 0.34509805]\n"
          ]
        }
      ]
    },
    {
      "cell_type": "code",
      "metadata": {
        "colab": {
          "base_uri": "https://localhost:8080/"
        },
        "id": "tc7FivC6EPhm",
        "outputId": "1434b4de-c233-4263-de13-1fcf0f162b7e"
      },
      "source": [
        "# Transformasi label encoder\n",
        "from sklearn.preprocessing import LabelEncoder\n",
        "\n",
        "print(\"Label sebelum di-encoder \", train_label[1:5])\n",
        "\n",
        "lb = LabelEncoder()\n",
        "y_train = lb.fit_transform(train_label)\n",
        "y_test = lb.fit_transform(test_label)\n",
        "\n",
        "print(\"Label setelah di-encoder \", y_train[1:5])"
      ],
      "execution_count": null,
      "outputs": [
        {
          "output_type": "stream",
          "name": "stdout",
          "text": [
            "Label sebelum di-encoder  ['COVID19' 'COVID19' 'COVID19' 'COVID19']\n",
            "Label setelah di-encoder  [0 0 0 0]\n"
          ]
        }
      ]
    },
    {
      "cell_type": "markdown",
      "metadata": {
        "id": "4jVWbOhOEzQJ"
      },
      "source": [
        "<h3>Definisikan Model</h3>"
      ]
    },
    {
      "cell_type": "code",
      "metadata": {
        "id": "usLiFiwAEvVb"
      },
      "source": [
        "from tensorflow.keras.models import Sequential\n",
        "from tensorflow.keras.layers import InputLayer, Dense, Conv2D, MaxPool2D, Flatten"
      ],
      "execution_count": null,
      "outputs": []
    },
    {
      "cell_type": "code",
      "metadata": {
        "id": "rDwzxacpE1ei"
      },
      "source": [
        "# Feature Extraction Layer\n",
        "model = Sequential()\n",
        "\n",
        "model.add(InputLayer(input_shape=[150,150,3]))\n",
        "model.add(Conv2D(filters=16, kernel_size=3, strides=1, padding='same', activation='relu'))\n",
        "model.add(MaxPool2D(pool_size=2, padding='same'))\n",
        "model.add(Conv2D(filters=32, kernel_size=3, strides=1, padding='same', activation='relu'))\n",
        "model.add(MaxPool2D(pool_size=2, padding='same'))\n",
        "model.add(Conv2D(filters=64, kernel_size=3, strides=1, padding='same', activation='relu'))\n",
        "model.add(MaxPool2D(pool_size=2, padding='same'))\n",
        "model.add(Flatten())"
      ],
      "execution_count": null,
      "outputs": []
    },
    {
      "cell_type": "code",
      "metadata": {
        "id": "Sud1AUF0E2k8"
      },
      "source": [
        "# Fully Connected Layer\n",
        "model.add(Dense(128, activation='relu'))\n",
        "model.add(Dense(1, activation='sigmoid'))"
      ],
      "execution_count": null,
      "outputs": []
    },
    {
      "cell_type": "code",
      "metadata": {
        "colab": {
          "base_uri": "https://localhost:8080/"
        },
        "id": "XW-KE9ePE466",
        "outputId": "8bd35010-5b01-4e45-f639-45a32c7934ab"
      },
      "source": [
        "# Print model summary\n",
        "print(model.summary())"
      ],
      "execution_count": null,
      "outputs": [
        {
          "output_type": "stream",
          "name": "stdout",
          "text": [
            "Model: \"sequential\"\n",
            "_________________________________________________________________\n",
            " Layer (type)                Output Shape              Param #   \n",
            "=================================================================\n",
            " conv2d (Conv2D)             (None, 150, 150, 16)      448       \n",
            "                                                                 \n",
            " max_pooling2d (MaxPooling2D  (None, 75, 75, 16)       0         \n",
            " )                                                               \n",
            "                                                                 \n",
            " conv2d_1 (Conv2D)           (None, 75, 75, 32)        4640      \n",
            "                                                                 \n",
            " max_pooling2d_1 (MaxPooling  (None, 38, 38, 32)       0         \n",
            " 2D)                                                             \n",
            "                                                                 \n",
            " conv2d_2 (Conv2D)           (None, 38, 38, 64)        18496     \n",
            "                                                                 \n",
            " max_pooling2d_2 (MaxPooling  (None, 19, 19, 64)       0         \n",
            " 2D)                                                             \n",
            "                                                                 \n",
            " flatten (Flatten)           (None, 23104)             0         \n",
            "                                                                 \n",
            " dense (Dense)               (None, 128)               2957440   \n",
            "                                                                 \n",
            " dense_1 (Dense)             (None, 1)                 129       \n",
            "                                                                 \n",
            "=================================================================\n",
            "Total params: 2,981,153\n",
            "Trainable params: 2,981,153\n",
            "Non-trainable params: 0\n",
            "_________________________________________________________________\n",
            "None\n"
          ]
        }
      ]
    },
    {
      "cell_type": "code",
      "metadata": {
        "colab": {
          "base_uri": "https://localhost:8080/"
        },
        "id": "Tais64D7E5Zo",
        "outputId": "81c7b6ef-857c-46f4-9ba7-80b9781cc167"
      },
      "source": [
        "# Compile model\n",
        "from tensorflow.keras.optimizers import Adam\n",
        "\n",
        "model.compile(optimizer=Adam(lr=0.001), \n",
        "              loss='binary_crossentropy', \n",
        "              metrics=['acc'])"
      ],
      "execution_count": null,
      "outputs": [
        {
          "output_type": "stream",
          "name": "stderr",
          "text": [
            "/usr/local/lib/python3.7/dist-packages/keras/optimizer_v2/adam.py:105: UserWarning: The `lr` argument is deprecated, use `learning_rate` instead.\n",
            "  super(Adam, self).__init__(name, **kwargs)\n"
          ]
        }
      ]
    },
    {
      "cell_type": "markdown",
      "metadata": {
        "id": "NTNBH19iE8kt"
      },
      "source": [
        "<h3>Training Model</h3>"
      ]
    },
    {
      "cell_type": "code",
      "metadata": {
        "colab": {
          "base_uri": "https://localhost:8080/"
        },
        "id": "p4Vr8dyvE6pM",
        "outputId": "785423b3-4c8e-46d7-c3d3-809f648c8b93"
      },
      "source": [
        "H = model.fit(x_train, y_train, batch_size=20, epochs=100, validation_data=(x_test, y_test))"
      ],
      "execution_count": null,
      "outputs": [
        {
          "output_type": "stream",
          "name": "stdout",
          "text": [
            "Epoch 1/100\n",
            "29/29 [==============================] - 32s 50ms/step - loss: 0.0220 - acc: 1.0000 - val_loss: 4.1573e-23 - val_acc: 1.0000\n",
            "Epoch 2/100\n",
            "29/29 [==============================] - 1s 30ms/step - loss: 7.7643e-25 - acc: 1.0000 - val_loss: 3.9423e-25 - val_acc: 1.0000\n",
            "Epoch 3/100\n",
            "29/29 [==============================] - 1s 33ms/step - loss: 3.1691e-25 - acc: 1.0000 - val_loss: 2.9246e-25 - val_acc: 1.0000\n",
            "Epoch 4/100\n",
            "29/29 [==============================] - 1s 30ms/step - loss: 2.8794e-25 - acc: 1.0000 - val_loss: 2.8753e-25 - val_acc: 1.0000\n",
            "Epoch 5/100\n",
            "29/29 [==============================] - 1s 30ms/step - loss: 2.8732e-25 - acc: 1.0000 - val_loss: 2.8730e-25 - val_acc: 1.0000\n",
            "Epoch 6/100\n",
            "29/29 [==============================] - 1s 30ms/step - loss: 2.8729e-25 - acc: 1.0000 - val_loss: 2.8729e-25 - val_acc: 1.0000\n",
            "Epoch 7/100\n",
            "29/29 [==============================] - 1s 30ms/step - loss: 2.8729e-25 - acc: 1.0000 - val_loss: 2.8729e-25 - val_acc: 1.0000\n",
            "Epoch 8/100\n",
            "29/29 [==============================] - 1s 31ms/step - loss: 2.8729e-25 - acc: 1.0000 - val_loss: 2.8729e-25 - val_acc: 1.0000\n",
            "Epoch 9/100\n",
            "29/29 [==============================] - 1s 31ms/step - loss: 2.8729e-25 - acc: 1.0000 - val_loss: 2.8729e-25 - val_acc: 1.0000\n",
            "Epoch 10/100\n",
            "29/29 [==============================] - 1s 31ms/step - loss: 2.8729e-25 - acc: 1.0000 - val_loss: 2.8729e-25 - val_acc: 1.0000\n",
            "Epoch 11/100\n",
            "29/29 [==============================] - 1s 31ms/step - loss: 2.8729e-25 - acc: 1.0000 - val_loss: 2.8729e-25 - val_acc: 1.0000\n",
            "Epoch 12/100\n",
            "29/29 [==============================] - 1s 30ms/step - loss: 2.8729e-25 - acc: 1.0000 - val_loss: 2.8729e-25 - val_acc: 1.0000\n",
            "Epoch 13/100\n",
            "29/29 [==============================] - 1s 31ms/step - loss: 2.8729e-25 - acc: 1.0000 - val_loss: 2.8729e-25 - val_acc: 1.0000\n",
            "Epoch 14/100\n",
            "29/29 [==============================] - 1s 30ms/step - loss: 2.8729e-25 - acc: 1.0000 - val_loss: 2.8729e-25 - val_acc: 1.0000\n",
            "Epoch 15/100\n",
            "29/29 [==============================] - 1s 30ms/step - loss: 2.8729e-25 - acc: 1.0000 - val_loss: 2.8729e-25 - val_acc: 1.0000\n",
            "Epoch 16/100\n",
            "29/29 [==============================] - 1s 30ms/step - loss: 2.8729e-25 - acc: 1.0000 - val_loss: 2.8729e-25 - val_acc: 1.0000\n",
            "Epoch 17/100\n",
            "29/29 [==============================] - 1s 31ms/step - loss: 2.8729e-25 - acc: 1.0000 - val_loss: 2.8729e-25 - val_acc: 1.0000\n",
            "Epoch 18/100\n",
            "29/29 [==============================] - 1s 31ms/step - loss: 2.8729e-25 - acc: 1.0000 - val_loss: 2.8729e-25 - val_acc: 1.0000\n",
            "Epoch 19/100\n",
            "29/29 [==============================] - 1s 30ms/step - loss: 2.8729e-25 - acc: 1.0000 - val_loss: 2.8729e-25 - val_acc: 1.0000\n",
            "Epoch 20/100\n",
            "29/29 [==============================] - 1s 30ms/step - loss: 2.8729e-25 - acc: 1.0000 - val_loss: 2.8729e-25 - val_acc: 1.0000\n",
            "Epoch 21/100\n",
            "29/29 [==============================] - 1s 30ms/step - loss: 2.8729e-25 - acc: 1.0000 - val_loss: 2.8729e-25 - val_acc: 1.0000\n",
            "Epoch 22/100\n",
            "29/29 [==============================] - 1s 30ms/step - loss: 2.8729e-25 - acc: 1.0000 - val_loss: 2.8729e-25 - val_acc: 1.0000\n",
            "Epoch 23/100\n",
            "29/29 [==============================] - 1s 30ms/step - loss: 2.8729e-25 - acc: 1.0000 - val_loss: 2.8729e-25 - val_acc: 1.0000\n",
            "Epoch 24/100\n",
            "29/29 [==============================] - 1s 31ms/step - loss: 2.8729e-25 - acc: 1.0000 - val_loss: 2.8729e-25 - val_acc: 1.0000\n",
            "Epoch 25/100\n",
            "29/29 [==============================] - 1s 30ms/step - loss: 2.8729e-25 - acc: 1.0000 - val_loss: 2.8729e-25 - val_acc: 1.0000\n",
            "Epoch 26/100\n",
            "29/29 [==============================] - 1s 31ms/step - loss: 2.8729e-25 - acc: 1.0000 - val_loss: 2.8729e-25 - val_acc: 1.0000\n",
            "Epoch 27/100\n",
            "29/29 [==============================] - 1s 30ms/step - loss: 2.8729e-25 - acc: 1.0000 - val_loss: 2.8729e-25 - val_acc: 1.0000\n",
            "Epoch 28/100\n",
            "29/29 [==============================] - 1s 30ms/step - loss: 2.8729e-25 - acc: 1.0000 - val_loss: 2.8729e-25 - val_acc: 1.0000\n",
            "Epoch 29/100\n",
            "29/29 [==============================] - 1s 30ms/step - loss: 2.8729e-25 - acc: 1.0000 - val_loss: 2.8729e-25 - val_acc: 1.0000\n",
            "Epoch 30/100\n",
            "29/29 [==============================] - 1s 31ms/step - loss: 2.8729e-25 - acc: 1.0000 - val_loss: 2.8729e-25 - val_acc: 1.0000\n",
            "Epoch 31/100\n",
            "29/29 [==============================] - 1s 31ms/step - loss: 2.8729e-25 - acc: 1.0000 - val_loss: 2.8729e-25 - val_acc: 1.0000\n",
            "Epoch 32/100\n",
            "29/29 [==============================] - 1s 30ms/step - loss: 2.8729e-25 - acc: 1.0000 - val_loss: 2.8729e-25 - val_acc: 1.0000\n",
            "Epoch 33/100\n",
            "29/29 [==============================] - 1s 30ms/step - loss: 2.8729e-25 - acc: 1.0000 - val_loss: 2.8729e-25 - val_acc: 1.0000\n",
            "Epoch 34/100\n",
            "29/29 [==============================] - 1s 31ms/step - loss: 2.8729e-25 - acc: 1.0000 - val_loss: 2.8729e-25 - val_acc: 1.0000\n",
            "Epoch 35/100\n",
            "29/29 [==============================] - 1s 30ms/step - loss: 2.8729e-25 - acc: 1.0000 - val_loss: 2.8729e-25 - val_acc: 1.0000\n",
            "Epoch 36/100\n",
            "29/29 [==============================] - 1s 30ms/step - loss: 2.8729e-25 - acc: 1.0000 - val_loss: 2.8729e-25 - val_acc: 1.0000\n",
            "Epoch 37/100\n",
            "29/29 [==============================] - 1s 31ms/step - loss: 2.8729e-25 - acc: 1.0000 - val_loss: 2.8729e-25 - val_acc: 1.0000\n",
            "Epoch 38/100\n",
            "29/29 [==============================] - 1s 30ms/step - loss: 2.8729e-25 - acc: 1.0000 - val_loss: 2.8729e-25 - val_acc: 1.0000\n",
            "Epoch 39/100\n",
            "29/29 [==============================] - 1s 30ms/step - loss: 2.8729e-25 - acc: 1.0000 - val_loss: 2.8729e-25 - val_acc: 1.0000\n",
            "Epoch 40/100\n",
            "29/29 [==============================] - 1s 30ms/step - loss: 2.8729e-25 - acc: 1.0000 - val_loss: 2.8729e-25 - val_acc: 1.0000\n",
            "Epoch 41/100\n",
            "29/29 [==============================] - 1s 31ms/step - loss: 2.8729e-25 - acc: 1.0000 - val_loss: 2.8729e-25 - val_acc: 1.0000\n",
            "Epoch 42/100\n",
            "29/29 [==============================] - 1s 31ms/step - loss: 2.8729e-25 - acc: 1.0000 - val_loss: 2.8729e-25 - val_acc: 1.0000\n",
            "Epoch 43/100\n",
            "29/29 [==============================] - 1s 31ms/step - loss: 2.8729e-25 - acc: 1.0000 - val_loss: 2.8729e-25 - val_acc: 1.0000\n",
            "Epoch 44/100\n",
            "29/29 [==============================] - 1s 30ms/step - loss: 2.8729e-25 - acc: 1.0000 - val_loss: 2.8729e-25 - val_acc: 1.0000\n",
            "Epoch 45/100\n",
            "29/29 [==============================] - 1s 31ms/step - loss: 2.8729e-25 - acc: 1.0000 - val_loss: 2.8729e-25 - val_acc: 1.0000\n",
            "Epoch 46/100\n",
            "29/29 [==============================] - 1s 30ms/step - loss: 2.8729e-25 - acc: 1.0000 - val_loss: 2.8729e-25 - val_acc: 1.0000\n",
            "Epoch 47/100\n",
            "29/29 [==============================] - 1s 31ms/step - loss: 2.8729e-25 - acc: 1.0000 - val_loss: 2.8729e-25 - val_acc: 1.0000\n",
            "Epoch 48/100\n",
            "29/29 [==============================] - 1s 31ms/step - loss: 2.8729e-25 - acc: 1.0000 - val_loss: 2.8729e-25 - val_acc: 1.0000\n",
            "Epoch 49/100\n",
            "29/29 [==============================] - 1s 31ms/step - loss: 2.8729e-25 - acc: 1.0000 - val_loss: 2.8729e-25 - val_acc: 1.0000\n",
            "Epoch 50/100\n",
            "29/29 [==============================] - 1s 30ms/step - loss: 2.8729e-25 - acc: 1.0000 - val_loss: 2.8729e-25 - val_acc: 1.0000\n",
            "Epoch 51/100\n",
            "29/29 [==============================] - 1s 31ms/step - loss: 2.8729e-25 - acc: 1.0000 - val_loss: 2.8729e-25 - val_acc: 1.0000\n",
            "Epoch 52/100\n",
            "29/29 [==============================] - 1s 31ms/step - loss: 2.8729e-25 - acc: 1.0000 - val_loss: 2.8729e-25 - val_acc: 1.0000\n",
            "Epoch 53/100\n",
            "29/29 [==============================] - 1s 31ms/step - loss: 2.8729e-25 - acc: 1.0000 - val_loss: 2.8729e-25 - val_acc: 1.0000\n",
            "Epoch 54/100\n",
            "29/29 [==============================] - 1s 31ms/step - loss: 2.8729e-25 - acc: 1.0000 - val_loss: 2.8729e-25 - val_acc: 1.0000\n",
            "Epoch 55/100\n",
            "29/29 [==============================] - 1s 30ms/step - loss: 2.8729e-25 - acc: 1.0000 - val_loss: 2.8729e-25 - val_acc: 1.0000\n",
            "Epoch 56/100\n",
            "29/29 [==============================] - 1s 31ms/step - loss: 2.8729e-25 - acc: 1.0000 - val_loss: 2.8729e-25 - val_acc: 1.0000\n",
            "Epoch 57/100\n",
            "29/29 [==============================] - 1s 31ms/step - loss: 2.8729e-25 - acc: 1.0000 - val_loss: 2.8729e-25 - val_acc: 1.0000\n",
            "Epoch 58/100\n",
            "29/29 [==============================] - 1s 31ms/step - loss: 2.8729e-25 - acc: 1.0000 - val_loss: 2.8729e-25 - val_acc: 1.0000\n",
            "Epoch 59/100\n",
            "29/29 [==============================] - 1s 33ms/step - loss: 2.8729e-25 - acc: 1.0000 - val_loss: 2.8729e-25 - val_acc: 1.0000\n",
            "Epoch 60/100\n",
            "29/29 [==============================] - 1s 31ms/step - loss: 2.8729e-25 - acc: 1.0000 - val_loss: 2.8729e-25 - val_acc: 1.0000\n",
            "Epoch 61/100\n",
            "29/29 [==============================] - 1s 31ms/step - loss: 2.8729e-25 - acc: 1.0000 - val_loss: 2.8729e-25 - val_acc: 1.0000\n",
            "Epoch 62/100\n",
            "29/29 [==============================] - 1s 33ms/step - loss: 2.8729e-25 - acc: 1.0000 - val_loss: 2.8729e-25 - val_acc: 1.0000\n",
            "Epoch 63/100\n",
            "29/29 [==============================] - 1s 30ms/step - loss: 2.8729e-25 - acc: 1.0000 - val_loss: 2.8729e-25 - val_acc: 1.0000\n",
            "Epoch 64/100\n",
            "29/29 [==============================] - 1s 31ms/step - loss: 2.8729e-25 - acc: 1.0000 - val_loss: 2.8729e-25 - val_acc: 1.0000\n",
            "Epoch 65/100\n",
            "29/29 [==============================] - 1s 31ms/step - loss: 2.8729e-25 - acc: 1.0000 - val_loss: 2.8729e-25 - val_acc: 1.0000\n",
            "Epoch 66/100\n",
            "29/29 [==============================] - 1s 30ms/step - loss: 2.8729e-25 - acc: 1.0000 - val_loss: 2.8729e-25 - val_acc: 1.0000\n",
            "Epoch 67/100\n",
            "29/29 [==============================] - 1s 30ms/step - loss: 2.8729e-25 - acc: 1.0000 - val_loss: 2.8729e-25 - val_acc: 1.0000\n",
            "Epoch 68/100\n",
            "29/29 [==============================] - 1s 30ms/step - loss: 2.8729e-25 - acc: 1.0000 - val_loss: 2.8729e-25 - val_acc: 1.0000\n",
            "Epoch 69/100\n",
            "29/29 [==============================] - 1s 31ms/step - loss: 2.8729e-25 - acc: 1.0000 - val_loss: 2.8729e-25 - val_acc: 1.0000\n",
            "Epoch 70/100\n",
            "29/29 [==============================] - 1s 30ms/step - loss: 2.8729e-25 - acc: 1.0000 - val_loss: 2.8729e-25 - val_acc: 1.0000\n",
            "Epoch 71/100\n",
            "29/29 [==============================] - 1s 31ms/step - loss: 2.8729e-25 - acc: 1.0000 - val_loss: 2.8729e-25 - val_acc: 1.0000\n",
            "Epoch 72/100\n",
            "29/29 [==============================] - 1s 32ms/step - loss: 2.8729e-25 - acc: 1.0000 - val_loss: 2.8729e-25 - val_acc: 1.0000\n",
            "Epoch 73/100\n",
            "29/29 [==============================] - 1s 30ms/step - loss: 2.8729e-25 - acc: 1.0000 - val_loss: 2.8729e-25 - val_acc: 1.0000\n",
            "Epoch 74/100\n",
            "29/29 [==============================] - 1s 30ms/step - loss: 2.8729e-25 - acc: 1.0000 - val_loss: 2.8729e-25 - val_acc: 1.0000\n",
            "Epoch 75/100\n",
            "29/29 [==============================] - 1s 32ms/step - loss: 2.8729e-25 - acc: 1.0000 - val_loss: 2.8729e-25 - val_acc: 1.0000\n",
            "Epoch 76/100\n",
            "29/29 [==============================] - 1s 31ms/step - loss: 2.8729e-25 - acc: 1.0000 - val_loss: 2.8729e-25 - val_acc: 1.0000\n",
            "Epoch 77/100\n",
            "29/29 [==============================] - 1s 31ms/step - loss: 2.8729e-25 - acc: 1.0000 - val_loss: 2.8729e-25 - val_acc: 1.0000\n",
            "Epoch 78/100\n",
            "29/29 [==============================] - 1s 31ms/step - loss: 2.8729e-25 - acc: 1.0000 - val_loss: 2.8729e-25 - val_acc: 1.0000\n",
            "Epoch 79/100\n",
            "29/29 [==============================] - 1s 30ms/step - loss: 2.8729e-25 - acc: 1.0000 - val_loss: 2.8729e-25 - val_acc: 1.0000\n",
            "Epoch 80/100\n",
            "29/29 [==============================] - 1s 31ms/step - loss: 2.8729e-25 - acc: 1.0000 - val_loss: 2.8729e-25 - val_acc: 1.0000\n",
            "Epoch 81/100\n",
            "29/29 [==============================] - 1s 31ms/step - loss: 2.8729e-25 - acc: 1.0000 - val_loss: 2.8729e-25 - val_acc: 1.0000\n",
            "Epoch 82/100\n",
            "29/29 [==============================] - 1s 31ms/step - loss: 2.8729e-25 - acc: 1.0000 - val_loss: 2.8729e-25 - val_acc: 1.0000\n",
            "Epoch 83/100\n",
            "29/29 [==============================] - 1s 31ms/step - loss: 2.8729e-25 - acc: 1.0000 - val_loss: 2.8729e-25 - val_acc: 1.0000\n",
            "Epoch 84/100\n",
            "29/29 [==============================] - 1s 30ms/step - loss: 2.8729e-25 - acc: 1.0000 - val_loss: 2.8729e-25 - val_acc: 1.0000\n",
            "Epoch 85/100\n",
            "29/29 [==============================] - 1s 30ms/step - loss: 2.8729e-25 - acc: 1.0000 - val_loss: 2.8729e-25 - val_acc: 1.0000\n",
            "Epoch 86/100\n",
            "29/29 [==============================] - 1s 31ms/step - loss: 2.8729e-25 - acc: 1.0000 - val_loss: 2.8729e-25 - val_acc: 1.0000\n",
            "Epoch 87/100\n",
            "29/29 [==============================] - 1s 31ms/step - loss: 2.8729e-25 - acc: 1.0000 - val_loss: 2.8729e-25 - val_acc: 1.0000\n",
            "Epoch 88/100\n",
            "29/29 [==============================] - 1s 31ms/step - loss: 2.8729e-25 - acc: 1.0000 - val_loss: 2.8729e-25 - val_acc: 1.0000\n",
            "Epoch 89/100\n",
            "29/29 [==============================] - 1s 31ms/step - loss: 2.8729e-25 - acc: 1.0000 - val_loss: 2.8729e-25 - val_acc: 1.0000\n",
            "Epoch 90/100\n",
            "29/29 [==============================] - 1s 30ms/step - loss: 2.8729e-25 - acc: 1.0000 - val_loss: 2.8729e-25 - val_acc: 1.0000\n",
            "Epoch 91/100\n",
            "29/29 [==============================] - 1s 32ms/step - loss: 2.8729e-25 - acc: 1.0000 - val_loss: 2.8729e-25 - val_acc: 1.0000\n",
            "Epoch 92/100\n",
            "29/29 [==============================] - 1s 31ms/step - loss: 2.8729e-25 - acc: 1.0000 - val_loss: 2.8729e-25 - val_acc: 1.0000\n",
            "Epoch 93/100\n",
            "29/29 [==============================] - 1s 31ms/step - loss: 2.8729e-25 - acc: 1.0000 - val_loss: 2.8729e-25 - val_acc: 1.0000\n",
            "Epoch 94/100\n",
            "29/29 [==============================] - 1s 30ms/step - loss: 2.8729e-25 - acc: 1.0000 - val_loss: 2.8729e-25 - val_acc: 1.0000\n",
            "Epoch 95/100\n",
            "29/29 [==============================] - 1s 30ms/step - loss: 2.8729e-25 - acc: 1.0000 - val_loss: 2.8729e-25 - val_acc: 1.0000\n",
            "Epoch 96/100\n",
            "29/29 [==============================] - 1s 31ms/step - loss: 2.8729e-25 - acc: 1.0000 - val_loss: 2.8729e-25 - val_acc: 1.0000\n",
            "Epoch 97/100\n",
            "29/29 [==============================] - 1s 31ms/step - loss: 2.8729e-25 - acc: 1.0000 - val_loss: 2.8729e-25 - val_acc: 1.0000\n",
            "Epoch 98/100\n",
            "29/29 [==============================] - 1s 31ms/step - loss: 2.8729e-25 - acc: 1.0000 - val_loss: 2.8729e-25 - val_acc: 1.0000\n",
            "Epoch 99/100\n",
            "29/29 [==============================] - 1s 31ms/step - loss: 2.8729e-25 - acc: 1.0000 - val_loss: 2.8729e-25 - val_acc: 1.0000\n",
            "Epoch 100/100\n",
            "29/29 [==============================] - 1s 31ms/step - loss: 2.8729e-25 - acc: 1.0000 - val_loss: 2.8729e-25 - val_acc: 1.0000\n"
          ]
        }
      ]
    },
    {
      "cell_type": "markdown",
      "metadata": {
        "id": "HuxjW35RFCZ6"
      },
      "source": [
        "<h3>Evaluasi Model</h3>"
      ]
    },
    {
      "cell_type": "code",
      "metadata": {
        "colab": {
          "base_uri": "https://localhost:8080/",
          "height": 299
        },
        "id": "1AM3ms3zE_AU",
        "outputId": "b646187e-7ce7-497c-90a7-11df1c06e89e"
      },
      "source": [
        "%matplotlib inline\n",
        "\n",
        "import matplotlib.pyplot as plt\n",
        "\n",
        "plt.style.use(\"ggplot\")\n",
        "plt.figure()\n",
        "plt.plot(np.arange(0, 100), H.history[\"loss\"], label=\"train_loss\")\n",
        "plt.plot(np.arange(0, 100), H.history[\"val_loss\"], label=\"val_loss\")\n",
        "plt.title(\"Loss Plot\")\n",
        "plt.xlabel(\"Epoch #\")\n",
        "plt.ylabel(\"Loss\")\n",
        "plt.legend()\n",
        "plt.show()"
      ],
      "execution_count": null,
      "outputs": [
        {
          "output_type": "display_data",
          "data": {
            "image/png": "[encoded data removed]",
            "text/plain": [
              "<Figure size 432x288 with 1 Axes>"
            ]
          },
          "metadata": {}
        }
      ]
    },
    {
      "cell_type": "code",
      "metadata": {
        "colab": {
          "base_uri": "https://localhost:8080/",
          "height": 299
        },
        "id": "q1SJWudcFEDL",
        "outputId": "1a3c0f5a-eca9-44fb-cf33-6097ba61862b"
      },
      "source": [
        "plt.style.use(\"ggplot\")\n",
        "plt.figure()\n",
        "plt.plot(np.arange(0, 100), H.history[\"acc\"], label=\"train_acc\")\n",
        "plt.plot(np.arange(0, 100), H.history[\"val_acc\"], label=\"val_acc\")\n",
        "plt.title(\"Accuracy Plot\")\n",
        "plt.xlabel(\"Epoch #\")\n",
        "plt.ylabel(\"Acc\")\n",
        "plt.legend()\n",
        "plt.show()"
      ],
      "execution_count": null,
      "outputs": [
        {
          "output_type": "display_data",
          "data": {
            "image/png": "[encoded data removed]",
            "text/plain": [
              "<Figure size 432x288 with 1 Axes>"
            ]
          },
          "metadata": {}
        }
      ]
    },
    {
      "cell_type": "code",
      "metadata": {
        "colab": {
          "base_uri": "https://localhost:8080/"
        },
        "id": "H_8mB3igFG-x",
        "outputId": "9b23111a-8fac-4984-873d-a7f4f1e2991f"
      },
      "source": [
        "from sklearn.metrics import classification_report\n",
        "\n",
        "pred = model.predict(x_test)\n",
        "labels = (pred > 0.5).astype(np.int)\n",
        "\n",
        "print(classification_report(y_test, labels))"
      ],
      "execution_count": null,
      "outputs": [
        {
          "output_type": "stream",
          "name": "stdout",
          "text": [
            "              precision    recall  f1-score   support\n",
            "\n",
            "           0       1.00      1.00      1.00       576\n",
            "\n",
            "    accuracy                           1.00       576\n",
            "   macro avg       1.00      1.00      1.00       576\n",
            "weighted avg       1.00      1.00      1.00       576\n",
            "\n"
          ]
        }
      ]
    },
    {
      "cell_type": "code",
      "metadata": {
        "colab": {
          "base_uri": "https://localhost:8080/"
        },
        "id": "ed-D1Q9l_1ie",
        "outputId": "14cfcc62-39dd-4b8c-9d78-619e3ece056b"
      },
      "source": [
        "import tensorflow as tf\n",
        "model.save('model.h5')\n",
        "new_model = tf.keras.models.load_model('model.h5')\n",
        "\n",
        "# Show the model architecture\n",
        "new_model.summary()"
      ],
      "execution_count": null,
      "outputs": [
        {
          "output_type": "stream",
          "name": "stdout",
          "text": [
            "Model: \"sequential\"\n",
            "_________________________________________________________________\n",
            " Layer (type)                Output Shape              Param #   \n",
            "=================================================================\n",
            " conv2d (Conv2D)             (None, 150, 150, 16)      448       \n",
            "                                                                 \n",
            " max_pooling2d (MaxPooling2D  (None, 75, 75, 16)       0         \n",
            " )                                                               \n",
            "                                                                 \n",
            " conv2d_1 (Conv2D)           (None, 75, 75, 32)        4640      \n",
            "                                                                 \n",
            " max_pooling2d_1 (MaxPooling  (None, 38, 38, 32)       0         \n",
            " 2D)                                                             \n",
            "                                                                 \n",
            " conv2d_2 (Conv2D)           (None, 38, 38, 64)        18496     \n",
            "                                                                 \n",
            " max_pooling2d_2 (MaxPooling  (None, 19, 19, 64)       0         \n",
            " 2D)                                                             \n",
            "                                                                 \n",
            " flatten (Flatten)           (None, 23104)             0         \n",
            "                                                                 \n",
            " dense (Dense)               (None, 128)               2957440   \n",
            "                                                                 \n",
            " dense_1 (Dense)             (None, 1)                 129       \n",
            "                                                                 \n",
            "=================================================================\n",
            "Total params: 2,981,153\n",
            "Trainable params: 2,981,153\n",
            "Non-trainable params: 0\n",
            "_________________________________________________________________\n"
          ]
        }
      ]
    },
    {
      "cell_type": "code",
      "metadata": {
        "colab": {
          "base_uri": "https://localhost:8080/",
          "height": 34
        },
        "id": "gOqTnCzT-QuO",
        "outputId": "c2d529dc-ec18-4b24-d633-7e0173ace95e"
      },
      "source": [
        "plt.savefig(\"acc-1.svg\")"
      ],
      "execution_count": null,
      "outputs": [
        {
          "output_type": "display_data",
          "data": {
            "text/plain": [
              "<Figure size 432x288 with 0 Axes>"
            ]
          },
          "metadata": {}
        }
      ]
    }
  ]
}