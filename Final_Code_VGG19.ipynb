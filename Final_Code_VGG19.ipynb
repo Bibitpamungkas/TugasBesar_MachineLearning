{
  "nbformat": 4,
  "nbformat_minor": 0,
  "metadata": {
    "colab": {
      "name": "Final Code VGG19.ipynb",
      "provenance": [],
      "collapsed_sections": [],
      "include_colab_link": true
    },
    "kernelspec": {
      "name": "python3",
      "display_name": "Python 3"
    },
    "language_info": {
      "name": "python"
    },
    "accelerator": "GPU"
  },
  "cells": [
    {
      "cell_type": "markdown",
      "metadata": {
        "id": "view-in-github",
        "colab_type": "text"
      },
      "source": [
        "<a href=\"https://colab.research.google.com/github/Bibitpamungkas/TugasBesar_MachineLearning/blob/kelompok/Final_Code_VGG19.ipynb\" target=\"_parent\"><img src=\"https://colab.research.google.com/assets/colab-badge.svg\" alt=\"Open In Colab\"/></a>"
      ]
    },
    {
      "cell_type": "code",
      "source": [
        "# Tulis Program Anda Disini!\n",
        "# Basic Imports\n",
        "import numpy as np\n",
        "import matplotlib.pyplot as plt\n",
        "from glob import glob\n",
        "from PIL import Image\n",
        "\n",
        "# Imports untuk membangun CNN\n",
        "from keras.layers import Input, Lambda, Dense, Flatten\n",
        "from keras.models import Model\n",
        "from keras.applications.vgg19 import VGG19\n",
        "from keras.applications.vgg19 import preprocess_input\n",
        "from keras.preprocessing import image\n",
        "from keras.preprocessing.image import ImageDataGenerator\n",
        "from keras.models import Sequential, load_model\n",
        "\n",
        "# Ignore Warnings\n",
        "import warnings\n",
        "warnings.filterwarnings(\"ignore\")"
      ],
      "metadata": {
        "id": "ZurrR8y1ocbM"
      },
      "execution_count": null,
      "outputs": []
    },
    {
      "cell_type": "code",
      "metadata": {
        "colab": {
          "base_uri": "https://localhost:8080/"
        },
        "id": "NT6o_PwlVfnn",
        "outputId": "3c5ecebc-88dc-485f-f85b-e3e883f6c96a"
      },
      "source": [
        "!pip install kaggle"
      ],
      "execution_count": null,
      "outputs": [
        {
          "output_type": "stream",
          "name": "stdout",
          "text": [
            "Requirement already satisfied: kaggle in /usr/local/lib/python3.7/dist-packages (1.5.12)\n",
            "Requirement already satisfied: six>=1.10 in /usr/local/lib/python3.7/dist-packages (from kaggle) (1.15.0)\n",
            "Requirement already satisfied: python-slugify in /usr/local/lib/python3.7/dist-packages (from kaggle) (5.0.2)\n",
            "Requirement already satisfied: tqdm in /usr/local/lib/python3.7/dist-packages (from kaggle) (4.62.3)\n",
            "Requirement already satisfied: requests in /usr/local/lib/python3.7/dist-packages (from kaggle) (2.23.0)\n",
            "Requirement already satisfied: python-dateutil in /usr/local/lib/python3.7/dist-packages (from kaggle) (2.8.2)\n",
            "Requirement already satisfied: certifi in /usr/local/lib/python3.7/dist-packages (from kaggle) (2021.10.8)\n",
            "Requirement already satisfied: urllib3 in /usr/local/lib/python3.7/dist-packages (from kaggle) (1.24.3)\n",
            "Requirement already satisfied: text-unidecode>=1.3 in /usr/local/lib/python3.7/dist-packages (from python-slugify->kaggle) (1.3)\n",
            "Requirement already satisfied: idna<3,>=2.5 in /usr/local/lib/python3.7/dist-packages (from requests->kaggle) (2.10)\n",
            "Requirement already satisfied: chardet<4,>=3.0.2 in /usr/local/lib/python3.7/dist-packages (from requests->kaggle) (3.0.4)\n"
          ]
        }
      ]
    },
    {
      "cell_type": "code",
      "metadata": {
        "id": "To7VBDpjVm79"
      },
      "source": [
        "import os\n",
        "os.environ['KAGGLE_CONFIG_DIR'] = \"/tmp/\""
      ],
      "execution_count": null,
      "outputs": []
    },
    {
      "cell_type": "code",
      "metadata": {
        "id": "BHKCIYjVVoNW"
      },
      "source": [
        "# jika anda ingin menggunakan kaggle API untuk mengunduh dataset gunakan\n",
        "# kode berikut untuk membantu anda membuat config kaggle.json\n",
        "# pastikan anda mendaftar akun kaggle terlebih dahulu\n",
        "# kemudian menuju halaman my account dan buat token API anda\n",
        "\n",
        "api_token = {\"username\":\"bibitpamungkas\",\"key\":\"0b4a500fd9a858ee152de296398002ab\"}\n",
        "import json\n",
        "import zipfile\n",
        "import os\n",
        "with open('/tmp/kaggle.json', 'w') as file:\n",
        "    json.dump(api_token, file)\n",
        "!chmod 600 /tmp/kaggle.json"
      ],
      "execution_count": null,
      "outputs": []
    },
    {
      "cell_type": "code",
      "metadata": {
        "colab": {
          "base_uri": "https://localhost:8080/"
        },
        "id": "6GLqIFi7VtBq",
        "outputId": "bc5bea12-d267-4f35-b40b-554f3d55f48a"
      },
      "source": [
        "!kaggle datasets download -d jtiptj/chest-xray-pneumoniacovid19tuberculosis"
      ],
      "execution_count": null,
      "outputs": [
        {
          "output_type": "stream",
          "name": "stdout",
          "text": [
            "Downloading chest-xray-pneumoniacovid19tuberculosis.zip to /content\n",
            " 99% 1.73G/1.74G [00:41<00:00, 42.2MB/s]\n",
            "100% 1.74G/1.74G [00:41<00:00, 45.1MB/s]\n"
          ]
        }
      ]
    },
    {
      "cell_type": "code",
      "metadata": {
        "id": "VN5_ChJdWesQ"
      },
      "source": [
        "# Ekstrak dataset\n",
        "\n",
        "import os\n",
        "import zipfile\n",
        "\n",
        "os.makedirs('/tmp/chest-xray-pneumoniacovid19tuberculosis')\n",
        "\n",
        "local_zip = '/content/chest-xray-pneumoniacovid19tuberculosis.zip'\n",
        "zip_ref = zipfile.ZipFile(local_zip, 'r')\n",
        "zip_ref.extractall('/tmp/chest-xray-pneumoniacovid19tuberculosis')\n",
        "zip_ref.close()"
      ],
      "execution_count": null,
      "outputs": []
    },
    {
      "cell_type": "code",
      "metadata": {
        "colab": {
          "base_uri": "https://localhost:8080/"
        },
        "id": "qa950CRYMDfR",
        "outputId": "3888d255-bb0e-4314-9653-93a70215323c"
      },
      "source": [
        "import os\n",
        "base_dir = '/tmp/chest-xray-pneumoniacovid19tuberculosis'\n",
        "train = os.path.join(base_dir,'train')\n",
        "validation = os.path.join(base_dir,'val')\n",
        "test = os.path.join(base_dir,'test')\n",
        "\n",
        "c19_tr = os.path.join(train,'COVID19')\n",
        "c19_va = os.path.join(validation,'COVID19')\n",
        "c19_ts = os.path.join(test,'COVID19')\n",
        "\n",
        "nr_tr = os.path.join(train,'NORMAL')\n",
        "nr_va = os.path.join(validation,'NORMAL')\n",
        "nr_ts = os.path.join(test,'NORMAL')\n",
        "\n",
        "pn_tr = os.path.join(train,'PNEUMONIA')\n",
        "pn_va = os.path.join(validation,'PNEUMONIA')\n",
        "pn_ts = os.path.join(test,'PNEUMONIA')\n",
        "\n",
        "tb_tr = os.path.join(train,'TURBERCULOSIS')\n",
        "tb_va = os.path.join(validation,'TURBERCULOSIS')\n",
        "tb_ts = os.path.join(test,'TURBERCULOSIS')\n",
        "\n",
        "#file training dan validation\n",
        "file_train_c19 = os.listdir(c19_tr)\n",
        "file_validation_c19 = os.listdir(c19_va)\n",
        "file_test_c19 = os.listdir(c19_ts)\n",
        "file_train_nr = os.listdir(nr_tr)\n",
        "file_validation_nr = os.listdir(nr_va)\n",
        "file_test_nr = os.listdir(nr_ts)\n",
        "file_train_pn = os.listdir(pn_tr)\n",
        "file_validation_pn = os.listdir(pn_va)\n",
        "file_test_pn = os.listdir(pn_ts)\n",
        "file_train_tb = os.listdir(tb_tr)\n",
        "file_validation_tb = os.listdir(tb_va)\n",
        "file_test_tb = os.listdir(tb_ts)\n",
        "\n",
        "#Print jumlah data training dan validation\n",
        "print(\"Data COVID19 Train : \" + str(len(file_train_c19)))\n",
        "print(\"Data COVID19 Validation : \" + str(len(file_validation_c19)))\n",
        "print(\"Data COVID19 Test : \" + str(len(file_test_c19)))\n",
        "print(\"Data NORMAL Train : \" + str(len(file_train_nr)))\n",
        "print(\"Data NORMAL Validation : \" + str(len(file_validation_nr)))\n",
        "print(\"Data NORMAL Test : \" + str(len(file_test_nr)))\n",
        "print(\"Data PNEUMONIA Train : \" + str(len(file_train_pn)))\n",
        "print(\"Data PNEUMONIA Validation : \" + str(len(file_validation_pn)))\n",
        "print(\"Data PNEUMONIA Test : \" + str(len(file_test_pn)))\n",
        "print(\"Data TURBERCULOSIS Train : \" + str(len(file_train_tb)))\n",
        "print(\"Data TURBERCULOSIS Validation : \" + str(len(file_validation_tb)))\n",
        "print(\"Data TURBERCULOSIS Test : \" + str(len(file_test_tb)))"
      ],
      "execution_count": null,
      "outputs": [
        {
          "output_type": "stream",
          "name": "stdout",
          "text": [
            "Data COVID19 Train : 460\n",
            "Data COVID19 Validation : 10\n",
            "Data COVID19 Test : 106\n",
            "Data NORMAL Train : 1341\n",
            "Data NORMAL Validation : 8\n",
            "Data NORMAL Test : 234\n",
            "Data PNEUMONIA Train : 3875\n",
            "Data PNEUMONIA Validation : 8\n",
            "Data PNEUMONIA Test : 390\n",
            "Data TURBERCULOSIS Train : 650\n",
            "Data TURBERCULOSIS Validation : 12\n",
            "Data TURBERCULOSIS Test : 41\n"
          ]
        }
      ]
    },
    {
      "cell_type": "code",
      "metadata": {
        "id": "M_fsXra-GE_z",
        "colab": {
          "base_uri": "https://localhost:8080/"
        },
        "outputId": "1426b8ff-6127-4e37-8ef8-ccdafa9398f2"
      },
      "source": [
        "# TULIS KODE ANDA DISINI\n",
        "from tensorflow.keras.preprocessing.image import ImageDataGenerator\n",
        "batch_size=32\n",
        "\n",
        "augmen_gen = ImageDataGenerator(rescale=1/255,rotation_range=30, width_shift_range=0.1,\n",
        "                        height_shift_range=0.1, shear_range=0.2, \n",
        "                        zoom_range=0.8, horizontal_flip=True,\n",
        "                        fill_mode=\"nearest\")\n",
        "#melakukan class mode= metode pemilihan clasifikasi, taret size= dimensi citra, batch size= banyak citra yg dimasukkan setiap step, shuffle= acak data tida sesusai alfabetik\n",
        "train_aug = augmen_gen.flow_from_directory(\n",
        "    '/tmp/chest-xray-pneumoniacovid19tuberculosis/train',\n",
        "    class_mode = 'categorical',\n",
        "    shuffle=True,\n",
        "    target_size = (50,50),\n",
        "    batch_size=batch_size,\n",
        "    color_mode ='rgb'\n",
        ")\n",
        "\n",
        "test_aug = augmen_gen.flow_from_directory(\n",
        "    '/tmp/chest-xray-pneumoniacovid19tuberculosis/test',\n",
        "    class_mode = 'categorical',\n",
        "    shuffle=False,\n",
        "    target_size = (50,50),\n",
        "    batch_size=batch_size,\n",
        "    color_mode ='rgb',\n",
        ")"
      ],
      "execution_count": null,
      "outputs": [
        {
          "output_type": "stream",
          "name": "stdout",
          "text": [
            "Found 6326 images belonging to 4 classes.\n",
            "Found 771 images belonging to 4 classes.\n"
          ]
        }
      ]
    },
    {
      "cell_type": "code",
      "source": [
        "# TULIS KODE ANDA DISINI\n",
        "from tensorflow.keras.models import Sequential\n",
        "from tensorflow.keras.layers import InputLayer, Dense, Conv2D, MaxPool2D, Flatten, BatchNormalization, Dropout\n",
        "from tensorflow.keras.optimizers import Adam\n",
        "\n",
        "# DEFINISIKAN MODEL ANDA DISINI\n",
        "\n",
        "#Feature Selection\n",
        "model = Sequential()\n",
        "\n",
        "model.add(InputLayer(input_shape=[50,50,3]))\n",
        "model.add(Conv2D(filters=64, kernel_size=3, strides=1, padding='same', activation='relu'))\n",
        "model.add(MaxPool2D(pool_size=2, padding='same'))\n",
        "model.add(Conv2D(filters=128, kernel_size=3, strides=1, padding='same', activation='relu'))\n",
        "model.add(MaxPool2D(pool_size=2, padding='same'))\n",
        "model.add(Conv2D(filters=256, kernel_size=3, strides=1, padding='same', activation='relu'))\n",
        "model.add(MaxPool2D(pool_size=2, padding='same'))\n",
        "model.add(Dropout(0.5))\n",
        "model.add(BatchNormalization())\n",
        "model.add(Flatten())\n",
        "\n",
        "#Fully Connected Layer\n",
        "model.add(Dense(128, activation='relu'))\n",
        "model.add(Dense(4, activation='softmax'))\n",
        "print(model.summary())\n"
      ],
      "metadata": {
        "colab": {
          "base_uri": "https://localhost:8080/"
        },
        "id": "UUuHFLE1fxTq",
        "outputId": "232ad80c-f4db-4c86-ea4e-0b12bb2d31d4"
      },
      "execution_count": null,
      "outputs": [
        {
          "output_type": "stream",
          "name": "stdout",
          "text": [
            "Model: \"sequential_4\"\n",
            "_________________________________________________________________\n",
            " Layer (type)                Output Shape              Param #   \n",
            "=================================================================\n",
            " conv2d_12 (Conv2D)          (None, 50, 50, 64)        1792      \n",
            "                                                                 \n",
            " max_pooling2d_12 (MaxPoolin  (None, 25, 25, 64)       0         \n",
            " g2D)                                                            \n",
            "                                                                 \n",
            " conv2d_13 (Conv2D)          (None, 25, 25, 128)       73856     \n",
            "                                                                 \n",
            " max_pooling2d_13 (MaxPoolin  (None, 13, 13, 128)      0         \n",
            " g2D)                                                            \n",
            "                                                                 \n",
            " conv2d_14 (Conv2D)          (None, 13, 13, 256)       295168    \n",
            "                                                                 \n",
            " max_pooling2d_14 (MaxPoolin  (None, 7, 7, 256)        0         \n",
            " g2D)                                                            \n",
            "                                                                 \n",
            " dropout_2 (Dropout)         (None, 7, 7, 256)         0         \n",
            "                                                                 \n",
            " batch_normalization_2 (Batc  (None, 7, 7, 256)        1024      \n",
            " hNormalization)                                                 \n",
            "                                                                 \n",
            " flatten_4 (Flatten)         (None, 12544)             0         \n",
            "                                                                 \n",
            " dense_8 (Dense)             (None, 128)               1605760   \n",
            "                                                                 \n",
            " dense_9 (Dense)             (None, 4)                 516       \n",
            "                                                                 \n",
            "=================================================================\n",
            "Total params: 1,978,116\n",
            "Trainable params: 1,977,604\n",
            "Non-trainable params: 512\n",
            "_________________________________________________________________\n",
            "None\n"
          ]
        }
      ]
    },
    {
      "cell_type": "code",
      "source": [
        "# tell the model what cost and optimization method to use\n",
        "from tensorflow.keras.optimizers import Adam\n",
        "model.compile(\n",
        "  loss='categorical_crossentropy',\n",
        "  optimizer=Adam(lr=0.001),\n",
        "  metrics=['accuracy']\n",
        ")"
      ],
      "metadata": {
        "id": "5AgWr3m6sZKy"
      },
      "execution_count": null,
      "outputs": []
    },
    {
      "cell_type": "code",
      "source": [
        "# Mencocokan model\n",
        "r = model.fit_generator(\n",
        "  train_aug,\n",
        "  validation_data=test_aug,\n",
        "  epochs=50,\n",
        "  steps_per_epoch=len(train_aug), \n",
        "  validation_steps=len(test_aug)\n",
        ")       "
      ],
      "metadata": {
        "colab": {
          "base_uri": "https://localhost:8080/"
        },
        "id": "TG5b0CbDsbn8",
        "outputId": "16cd6d77-3af1-4633-97a7-31fd4ce1635f"
      },
      "execution_count": null,
      "outputs": [
        {
          "output_type": "stream",
          "name": "stdout",
          "text": [
            "Epoch 1/50\n",
            "198/198 [==============================] - 104s 524ms/step - loss: 0.8452 - accuracy: 0.6696 - val_loss: 1.5024 - val_accuracy: 0.0895\n",
            "Epoch 2/50\n",
            "198/198 [==============================] - 96s 485ms/step - loss: 0.6898 - accuracy: 0.7365 - val_loss: 0.7574 - val_accuracy: 0.7069\n",
            "Epoch 3/50\n",
            "198/198 [==============================] - 92s 467ms/step - loss: 0.6311 - accuracy: 0.7610 - val_loss: 1.0275 - val_accuracy: 0.6135\n",
            "Epoch 4/50\n",
            "198/198 [==============================] - 93s 471ms/step - loss: 0.5676 - accuracy: 0.7787 - val_loss: 0.9469 - val_accuracy: 0.6291\n",
            "Epoch 5/50\n",
            "198/198 [==============================] - 95s 482ms/step - loss: 0.5563 - accuracy: 0.7842 - val_loss: 0.7417 - val_accuracy: 0.7082\n",
            "Epoch 6/50\n",
            "198/198 [==============================] - 94s 470ms/step - loss: 0.5248 - accuracy: 0.7980 - val_loss: 1.1686 - val_accuracy: 0.6524\n",
            "Epoch 7/50\n",
            "198/198 [==============================] - 94s 477ms/step - loss: 0.4731 - accuracy: 0.8245 - val_loss: 1.0340 - val_accuracy: 0.6329\n",
            "Epoch 8/50\n",
            "198/198 [==============================] - 95s 482ms/step - loss: 0.4679 - accuracy: 0.8241 - val_loss: 0.7294 - val_accuracy: 0.6770\n",
            "Epoch 9/50\n",
            "198/198 [==============================] - 95s 479ms/step - loss: 0.4639 - accuracy: 0.8234 - val_loss: 0.5424 - val_accuracy: 0.7886\n",
            "Epoch 10/50\n",
            "198/198 [==============================] - 94s 473ms/step - loss: 0.4355 - accuracy: 0.8361 - val_loss: 0.6644 - val_accuracy: 0.7458\n",
            "Epoch 11/50\n",
            "198/198 [==============================] - 94s 475ms/step - loss: 0.4217 - accuracy: 0.8365 - val_loss: 0.5809 - val_accuracy: 0.7977\n",
            "Epoch 12/50\n",
            "198/198 [==============================] - 96s 486ms/step - loss: 0.4385 - accuracy: 0.8364 - val_loss: 1.2762 - val_accuracy: 0.5785\n",
            "Epoch 13/50\n",
            "198/198 [==============================] - 95s 478ms/step - loss: 0.4076 - accuracy: 0.8512 - val_loss: 1.1529 - val_accuracy: 0.6381\n",
            "Epoch 14/50\n",
            "198/198 [==============================] - 95s 481ms/step - loss: 0.3961 - accuracy: 0.8525 - val_loss: 1.2158 - val_accuracy: 0.5707\n",
            "Epoch 15/50\n",
            "198/198 [==============================] - 95s 482ms/step - loss: 0.4045 - accuracy: 0.8460 - val_loss: 0.6355 - val_accuracy: 0.7510\n",
            "Epoch 16/50\n",
            "198/198 [==============================] - 94s 475ms/step - loss: 0.3809 - accuracy: 0.8566 - val_loss: 1.6675 - val_accuracy: 0.5279\n",
            "Epoch 17/50\n",
            "198/198 [==============================] - 95s 477ms/step - loss: 0.3733 - accuracy: 0.8599 - val_loss: 0.7913 - val_accuracy: 0.7354\n",
            "Epoch 18/50\n",
            "198/198 [==============================] - 95s 480ms/step - loss: 0.3662 - accuracy: 0.8620 - val_loss: 0.9318 - val_accuracy: 0.6978\n",
            "Epoch 19/50\n",
            "198/198 [==============================] - 96s 483ms/step - loss: 0.3649 - accuracy: 0.8603 - val_loss: 0.7213 - val_accuracy: 0.7237\n",
            "Epoch 20/50\n",
            "198/198 [==============================] - 96s 483ms/step - loss: 0.3655 - accuracy: 0.8618 - val_loss: 0.5538 - val_accuracy: 0.8029\n",
            "Epoch 21/50\n",
            "198/198 [==============================] - 94s 476ms/step - loss: 0.3653 - accuracy: 0.8623 - val_loss: 0.7417 - val_accuracy: 0.7263\n",
            "Epoch 22/50\n",
            "198/198 [==============================] - 95s 482ms/step - loss: 0.3652 - accuracy: 0.8604 - val_loss: 0.6465 - val_accuracy: 0.7782\n",
            "Epoch 23/50\n",
            "198/198 [==============================] - 94s 476ms/step - loss: 0.3579 - accuracy: 0.8642 - val_loss: 0.6120 - val_accuracy: 0.7536\n",
            "Epoch 24/50\n",
            "198/198 [==============================] - 93s 468ms/step - loss: 0.3433 - accuracy: 0.8702 - val_loss: 0.4757 - val_accuracy: 0.7951\n",
            "Epoch 25/50\n",
            "198/198 [==============================] - 93s 469ms/step - loss: 0.3562 - accuracy: 0.8675 - val_loss: 0.7879 - val_accuracy: 0.7367\n",
            "Epoch 26/50\n",
            "198/198 [==============================] - 92s 466ms/step - loss: 0.3517 - accuracy: 0.8678 - val_loss: 1.0662 - val_accuracy: 0.6861\n",
            "Epoch 27/50\n",
            "198/198 [==============================] - 93s 471ms/step - loss: 0.3510 - accuracy: 0.8648 - val_loss: 0.6047 - val_accuracy: 0.7808\n",
            "Epoch 28/50\n",
            "198/198 [==============================] - 93s 469ms/step - loss: 0.3350 - accuracy: 0.8709 - val_loss: 0.4518 - val_accuracy: 0.8158\n",
            "Epoch 29/50\n",
            "198/198 [==============================] - 93s 471ms/step - loss: 0.3247 - accuracy: 0.8761 - val_loss: 0.6018 - val_accuracy: 0.7899\n",
            "Epoch 30/50\n",
            "198/198 [==============================] - 95s 481ms/step - loss: 0.3286 - accuracy: 0.8769 - val_loss: 0.5839 - val_accuracy: 0.7951\n",
            "Epoch 31/50\n",
            "198/198 [==============================] - 93s 470ms/step - loss: 0.3222 - accuracy: 0.8795 - val_loss: 0.4540 - val_accuracy: 0.8314\n",
            "Epoch 32/50\n",
            "198/198 [==============================] - 93s 471ms/step - loss: 0.3170 - accuracy: 0.8829 - val_loss: 0.6620 - val_accuracy: 0.7730\n",
            "Epoch 33/50\n",
            "198/198 [==============================] - 94s 474ms/step - loss: 0.3103 - accuracy: 0.8841 - val_loss: 0.8243 - val_accuracy: 0.7315\n",
            "Epoch 34/50\n",
            "198/198 [==============================] - 93s 472ms/step - loss: 0.3224 - accuracy: 0.8769 - val_loss: 0.4510 - val_accuracy: 0.8392\n",
            "Epoch 35/50\n",
            "198/198 [==============================] - 94s 473ms/step - loss: 0.3081 - accuracy: 0.8818 - val_loss: 0.5566 - val_accuracy: 0.7782\n",
            "Epoch 36/50\n",
            "198/198 [==============================] - 95s 476ms/step - loss: 0.3247 - accuracy: 0.8765 - val_loss: 0.5325 - val_accuracy: 0.8197\n",
            "Epoch 37/50\n",
            "198/198 [==============================] - 94s 477ms/step - loss: 0.2996 - accuracy: 0.8854 - val_loss: 0.8792 - val_accuracy: 0.7134\n",
            "Epoch 38/50\n",
            "198/198 [==============================] - 94s 473ms/step - loss: 0.3109 - accuracy: 0.8818 - val_loss: 0.4900 - val_accuracy: 0.7964\n",
            "Epoch 39/50\n",
            "198/198 [==============================] - 93s 473ms/step - loss: 0.3116 - accuracy: 0.8838 - val_loss: 0.5392 - val_accuracy: 0.7990\n",
            "Epoch 40/50\n",
            "198/198 [==============================] - 94s 477ms/step - loss: 0.3082 - accuracy: 0.8830 - val_loss: 0.8853 - val_accuracy: 0.7250\n",
            "Epoch 41/50\n",
            "198/198 [==============================] - 95s 479ms/step - loss: 0.2974 - accuracy: 0.8867 - val_loss: 0.7461 - val_accuracy: 0.7704\n",
            "Epoch 42/50\n",
            "198/198 [==============================] - 95s 479ms/step - loss: 0.2973 - accuracy: 0.8886 - val_loss: 1.7263 - val_accuracy: 0.5032\n",
            "Epoch 43/50\n",
            "198/198 [==============================] - 95s 480ms/step - loss: 0.3042 - accuracy: 0.8819 - val_loss: 0.5628 - val_accuracy: 0.8054\n",
            "Epoch 44/50\n",
            "198/198 [==============================] - 96s 483ms/step - loss: 0.2954 - accuracy: 0.8903 - val_loss: 0.5461 - val_accuracy: 0.7964\n",
            "Epoch 45/50\n",
            "198/198 [==============================] - 95s 477ms/step - loss: 0.2936 - accuracy: 0.8890 - val_loss: 1.0335 - val_accuracy: 0.7004\n",
            "Epoch 46/50\n",
            "198/198 [==============================] - 95s 479ms/step - loss: 0.2964 - accuracy: 0.8892 - val_loss: 0.6478 - val_accuracy: 0.7964\n",
            "Epoch 47/50\n",
            "198/198 [==============================] - 95s 479ms/step - loss: 0.2927 - accuracy: 0.8870 - val_loss: 2.8100 - val_accuracy: 0.4150\n",
            "Epoch 48/50\n",
            "198/198 [==============================] - 95s 479ms/step - loss: 0.3066 - accuracy: 0.8909 - val_loss: 1.5776 - val_accuracy: 0.5447\n",
            "Epoch 49/50\n",
            "198/198 [==============================] - 94s 473ms/step - loss: 0.2901 - accuracy: 0.8917 - val_loss: 0.6798 - val_accuracy: 0.7769\n",
            "Epoch 50/50\n",
            "198/198 [==============================] - 94s 474ms/step - loss: 0.2998 - accuracy: 0.8881 - val_loss: 0.6537 - val_accuracy: 0.7769\n"
          ]
        }
      ]
    },
    {
      "cell_type": "code",
      "source": [
        "fig, ax = plt.subplots(figsize=(20, 4), nrows=1, ncols=2)  \n",
        "\n",
        "ax[0].plot(r.history['loss'], color='b', label=\"Training Loss\")\n",
        "ax[0].plot(r.history['val_loss'], color='r', label=\"Testing Loss\",axes =ax[0])\n",
        "legend = ax[0].legend(loc='best', shadow=True)\n",
        "\n",
        "ax[1].plot(r.history['accuracy'], color='b', label=\"Training Accuracy\")\n",
        "ax[1].plot(r.history['val_accuracy'], color='r',label=\"Testing Accuracy\")\n",
        "legend = ax[1].legend(loc='best', shadow=True) "
      ],
      "metadata": {
        "id": "voKInibxsf3s",
        "colab": {
          "base_uri": "https://localhost:8080/",
          "height": 156
        },
        "outputId": "481cac2b-b2fe-4b60-9229-4517b62e69cc"
      },
      "execution_count": null,
      "outputs": [
        {
          "output_type": "display_data",
          "data": {
            "image/png": "[encoded data removed]",
            "text/plain": [
              "<Figure size 1440x288 with 2 Axes>"
            ]
          },
          "metadata": {}
        }
      ]
    },
    {
      "cell_type": "code",
      "source": [
        "from sklearn.metrics import classification_report\n",
        "ypred = model.predict(test_aug)\n",
        "prediction = np.argmax(ypred, axis=1)\n",
        "print(classification_report(test_aug.classes, prediction))"
      ],
      "metadata": {
        "id": "_gejJpvcskup",
        "colab": {
          "base_uri": "https://localhost:8080/"
        },
        "outputId": "e1d764aa-155e-4aa2-ef31-40bb3a3e252e"
      },
      "execution_count": null,
      "outputs": [
        {
          "output_type": "stream",
          "name": "stdout",
          "text": [
            "              precision    recall  f1-score   support\n",
            "\n",
            "           0       0.86      0.72      0.78       106\n",
            "           1       0.90      0.50      0.65       234\n",
            "           2       0.77      0.96      0.86       390\n",
            "           3       0.61      0.95      0.74        41\n",
            "\n",
            "    accuracy                           0.79       771\n",
            "   macro avg       0.79      0.78      0.76       771\n",
            "weighted avg       0.81      0.79      0.78       771\n",
            "\n"
          ]
        }
      ]
    },
    {
      "cell_type": "code",
      "metadata": {
        "id": "yxFQ8sVV2r9m",
        "colab": {
          "base_uri": "https://localhost:8080/",
          "height": 17
        },
        "outputId": "adf57581-532c-4a01-88e5-9a9f2dbd92c7"
      },
      "source": [
        "import tensorflow as tf\n",
        "# (to generate a SavedModel) \n",
        "\n",
        "from google.colab import files\n",
        "\n",
        "model.save('model11.h5')\n",
        "files.download('model11.h5')"
      ],
      "execution_count": null,
      "outputs": [
        {
          "output_type": "display_data",
          "data": {
            "application/javascript": [
              "\n",
              "    async function download(id, filename, size) {\n",
              "      if (!google.colab.kernel.accessAllowed) {\n",
              "        return;\n",
              "      }\n",
              "      const div = document.createElement('div');\n",
              "      const label = document.createElement('label');\n",
              "      label.textContent = `Downloading \"${filename}\": `;\n",
              "      div.appendChild(label);\n",
              "      const progress = document.createElement('progress');\n",
              "      progress.max = size;\n",
              "      div.appendChild(progress);\n",
              "      document.body.appendChild(div);\n",
              "\n",
              "      const buffers = [];\n",
              "      let downloaded = 0;\n",
              "\n",
              "      const channel = await google.colab.kernel.comms.open(id);\n",
              "      // Send a message to notify the kernel that we're ready.\n",
              "      channel.send({})\n",
              "\n",
              "      for await (const message of channel.messages) {\n",
              "        // Send a message to notify the kernel that we're ready.\n",
              "        channel.send({})\n",
              "        if (message.buffers) {\n",
              "          for (const buffer of message.buffers) {\n",
              "            buffers.push(buffer);\n",
              "            downloaded += buffer.byteLength;\n",
              "            progress.value = downloaded;\n",
              "          }\n",
              "        }\n",
              "      }\n",
              "      const blob = new Blob(buffers, {type: 'application/binary'});\n",
              "      const a = document.createElement('a');\n",
              "      a.href = window.URL.createObjectURL(blob);\n",
              "      a.download = filename;\n",
              "      div.appendChild(a);\n",
              "      a.click();\n",
              "      div.remove();\n",
              "    }\n",
              "  "
            ],
            "text/plain": [
              "<IPython.core.display.Javascript object>"
            ]
          },
          "metadata": {}
        },
        {
          "output_type": "display_data",
          "data": {
            "application/javascript": [
              "download(\"download_9802c601-0c51-4d23-855e-d4494ed5a058\", \"model11.h5\", 23797208)"
            ],
            "text/plain": [
              "<IPython.core.display.Javascript object>"
            ]
          },
          "metadata": {}
        }
      ]
    },
    {
      "cell_type": "code",
      "source": [
        "from tensorflow.keras.models import Sequential\n",
        "from tensorflow.keras.layers import InputLayer, Dense, Conv2D, MaxPool2D, Flatten\n",
        "# Feature Extraction Layer\n",
        "model1 = Sequential()\n",
        "\n",
        "model1.add(InputLayer(input_shape=[50,50,3]))\n",
        "model1.add(Conv2D(filters=16, kernel_size=3, strides=1, padding='same', activation='relu'))\n",
        "model1.add(MaxPool2D(pool_size=2, padding='same'))\n",
        "model1.add(Conv2D(filters=32, kernel_size=3, strides=1, padding='same', activation='relu'))\n",
        "model1.add(MaxPool2D(pool_size=2, padding='same'))\n",
        "model1.add(Conv2D(filters=64, kernel_size=3, strides=1, padding='same', activation='relu'))\n",
        "model1.add(MaxPool2D(pool_size=2, padding='same'))\n",
        "model1.add(Flatten())\n",
        "# Fully Connected Layer\n",
        "model1.add(Dense(128, activation='relu'))\n",
        "model1.add(Dense(4, activation='softmax'))\n",
        "# Print model summary\n",
        "print(model1.summary())"
      ],
      "metadata": {
        "id": "r-KPvTa8Zh8R",
        "colab": {
          "base_uri": "https://localhost:8080/"
        },
        "outputId": "c05dfd9e-f69b-441f-a6e7-f21549a4960f"
      },
      "execution_count": null,
      "outputs": [
        {
          "output_type": "stream",
          "name": "stdout",
          "text": [
            "Model: \"sequential_5\"\n",
            "_________________________________________________________________\n",
            " Layer (type)                Output Shape              Param #   \n",
            "=================================================================\n",
            " conv2d_15 (Conv2D)          (None, 50, 50, 16)        448       \n",
            "                                                                 \n",
            " max_pooling2d_15 (MaxPoolin  (None, 25, 25, 16)       0         \n",
            " g2D)                                                            \n",
            "                                                                 \n",
            " conv2d_16 (Conv2D)          (None, 25, 25, 32)        4640      \n",
            "                                                                 \n",
            " max_pooling2d_16 (MaxPoolin  (None, 13, 13, 32)       0         \n",
            " g2D)                                                            \n",
            "                                                                 \n",
            " conv2d_17 (Conv2D)          (None, 13, 13, 64)        18496     \n",
            "                                                                 \n",
            " max_pooling2d_17 (MaxPoolin  (None, 7, 7, 64)         0         \n",
            " g2D)                                                            \n",
            "                                                                 \n",
            " flatten_5 (Flatten)         (None, 3136)              0         \n",
            "                                                                 \n",
            " dense_10 (Dense)            (None, 128)               401536    \n",
            "                                                                 \n",
            " dense_11 (Dense)            (None, 4)                 516       \n",
            "                                                                 \n",
            "=================================================================\n",
            "Total params: 425,636\n",
            "Trainable params: 425,636\n",
            "Non-trainable params: 0\n",
            "_________________________________________________________________\n",
            "None\n"
          ]
        }
      ]
    },
    {
      "cell_type": "code",
      "source": [
        "# tell the model what cost and optimization method to use\n",
        "from tensorflow.keras.optimizers import Adam\n",
        "model1.compile(\n",
        "  loss='categorical_crossentropy',\n",
        "  optimizer=Adam(lr=0.001),\n",
        "  metrics=['accuracy']\n",
        ")"
      ],
      "metadata": {
        "id": "-drmwtVFcyMu"
      },
      "execution_count": null,
      "outputs": []
    },
    {
      "cell_type": "code",
      "metadata": {
        "id": "224PQYTNsUWk",
        "colab": {
          "base_uri": "https://localhost:8080/"
        },
        "outputId": "692645d6-8e78-4195-f0cd-403a92669537"
      },
      "source": [
        "H1 = model1.fit_generator(\n",
        "  train_aug,\n",
        "  validation_data=test_aug,\n",
        "  epochs=50,\n",
        "  steps_per_epoch=len(train_aug),\n",
        "  validation_steps=len(test_aug)\n",
        ")      "
      ],
      "execution_count": null,
      "outputs": [
        {
          "output_type": "stream",
          "name": "stdout",
          "text": [
            "Epoch 1/50\n",
            "198/198 [==============================] - 99s 494ms/step - loss: 0.8662 - accuracy: 0.6717 - val_loss: 0.8297 - val_accuracy: 0.6641\n",
            "Epoch 2/50\n",
            "198/198 [==============================] - 93s 470ms/step - loss: 0.6917 - accuracy: 0.7370 - val_loss: 0.7564 - val_accuracy: 0.7160\n",
            "Epoch 3/50\n",
            "198/198 [==============================] - 93s 471ms/step - loss: 0.6147 - accuracy: 0.7667 - val_loss: 0.7707 - val_accuracy: 0.6991\n",
            "Epoch 4/50\n",
            "198/198 [==============================] - 94s 476ms/step - loss: 0.5643 - accuracy: 0.7842 - val_loss: 0.6868 - val_accuracy: 0.7121\n",
            "Epoch 5/50\n",
            "198/198 [==============================] - 94s 473ms/step - loss: 0.5387 - accuracy: 0.7947 - val_loss: 0.8085 - val_accuracy: 0.6835\n",
            "Epoch 6/50\n",
            "198/198 [==============================] - 94s 473ms/step - loss: 0.5043 - accuracy: 0.8046 - val_loss: 0.8284 - val_accuracy: 0.6680\n",
            "Epoch 7/50\n",
            "198/198 [==============================] - 94s 473ms/step - loss: 0.4851 - accuracy: 0.8149 - val_loss: 0.6344 - val_accuracy: 0.7536\n",
            "Epoch 8/50\n",
            "198/198 [==============================] - 93s 472ms/step - loss: 0.4535 - accuracy: 0.8279 - val_loss: 0.5972 - val_accuracy: 0.7613\n",
            "Epoch 9/50\n",
            "198/198 [==============================] - 95s 477ms/step - loss: 0.4562 - accuracy: 0.8301 - val_loss: 0.8453 - val_accuracy: 0.6939\n",
            "Epoch 10/50\n",
            "198/198 [==============================] - 94s 474ms/step - loss: 0.4249 - accuracy: 0.8418 - val_loss: 0.6328 - val_accuracy: 0.7626\n",
            "Epoch 11/50\n",
            "198/198 [==============================] - 94s 473ms/step - loss: 0.4095 - accuracy: 0.8426 - val_loss: 0.5779 - val_accuracy: 0.7665\n",
            "Epoch 12/50\n",
            "198/198 [==============================] - 94s 473ms/step - loss: 0.4288 - accuracy: 0.8361 - val_loss: 0.6890 - val_accuracy: 0.7471\n",
            "Epoch 13/50\n",
            "198/198 [==============================] - 96s 483ms/step - loss: 0.4060 - accuracy: 0.8527 - val_loss: 0.6081 - val_accuracy: 0.7860\n",
            "Epoch 14/50\n",
            "198/198 [==============================] - 96s 485ms/step - loss: 0.3838 - accuracy: 0.8533 - val_loss: 0.6133 - val_accuracy: 0.7678\n",
            "Epoch 15/50\n",
            "198/198 [==============================] - 96s 487ms/step - loss: 0.3768 - accuracy: 0.8543 - val_loss: 0.6317 - val_accuracy: 0.7549\n",
            "Epoch 16/50\n",
            "198/198 [==============================] - 97s 490ms/step - loss: 0.3753 - accuracy: 0.8620 - val_loss: 0.7373 - val_accuracy: 0.7419\n",
            "Epoch 17/50\n",
            "198/198 [==============================] - 95s 480ms/step - loss: 0.3421 - accuracy: 0.8739 - val_loss: 0.6970 - val_accuracy: 0.7588\n",
            "Epoch 18/50\n",
            "198/198 [==============================] - 95s 480ms/step - loss: 0.3497 - accuracy: 0.8726 - val_loss: 0.8399 - val_accuracy: 0.7185\n",
            "Epoch 19/50\n",
            "198/198 [==============================] - 96s 487ms/step - loss: 0.3484 - accuracy: 0.8715 - val_loss: 0.5669 - val_accuracy: 0.7808\n",
            "Epoch 20/50\n",
            "198/198 [==============================] - 94s 475ms/step - loss: 0.3391 - accuracy: 0.8739 - val_loss: 0.6492 - val_accuracy: 0.7639\n",
            "Epoch 21/50\n",
            "198/198 [==============================] - 94s 477ms/step - loss: 0.3360 - accuracy: 0.8775 - val_loss: 0.5578 - val_accuracy: 0.7925\n",
            "Epoch 22/50\n",
            "198/198 [==============================] - 94s 476ms/step - loss: 0.3426 - accuracy: 0.8742 - val_loss: 0.5292 - val_accuracy: 0.8042\n",
            "Epoch 23/50\n",
            "198/198 [==============================] - 94s 476ms/step - loss: 0.3284 - accuracy: 0.8756 - val_loss: 0.5129 - val_accuracy: 0.8029\n",
            "Epoch 24/50\n",
            "198/198 [==============================] - 94s 474ms/step - loss: 0.3270 - accuracy: 0.8745 - val_loss: 0.7491 - val_accuracy: 0.7458\n",
            "Epoch 25/50\n",
            "198/198 [==============================] - 94s 474ms/step - loss: 0.3236 - accuracy: 0.8759 - val_loss: 0.5693 - val_accuracy: 0.7808\n",
            "Epoch 26/50\n",
            "198/198 [==============================] - 93s 469ms/step - loss: 0.3339 - accuracy: 0.8788 - val_loss: 0.6479 - val_accuracy: 0.7717\n",
            "Epoch 27/50\n",
            "198/198 [==============================] - 93s 471ms/step - loss: 0.3043 - accuracy: 0.8857 - val_loss: 0.5837 - val_accuracy: 0.7821\n",
            "Epoch 28/50\n",
            "198/198 [==============================] - 95s 481ms/step - loss: 0.3206 - accuracy: 0.8844 - val_loss: 0.4471 - val_accuracy: 0.8418\n",
            "Epoch 29/50\n",
            "198/198 [==============================] - 95s 481ms/step - loss: 0.2917 - accuracy: 0.8938 - val_loss: 0.5146 - val_accuracy: 0.8171\n",
            "Epoch 30/50\n",
            "198/198 [==============================] - 95s 480ms/step - loss: 0.2944 - accuracy: 0.8893 - val_loss: 0.7337 - val_accuracy: 0.7575\n",
            "Epoch 31/50\n",
            "198/198 [==============================] - 102s 514ms/step - loss: 0.3096 - accuracy: 0.8794 - val_loss: 0.6339 - val_accuracy: 0.7847\n",
            "Epoch 32/50\n",
            " 48/198 [======>.......................] - ETA: 1:04 - loss: 0.3314 - accuracy: 0.8761"
          ]
        }
      ]
    },
    {
      "cell_type": "code",
      "source": [
        "fig, ax = plt.subplots(figsize=(20, 4), nrows=1, ncols=2)\n",
        "\n",
        "ax[0].plot(H1.history['loss'], color='b', label=\"Training Loss\")\n",
        "ax[0].plot(H1.history['val_loss'], color='r', label=\"Testing Loss\",axes =ax[0])\n",
        "legend = ax[0].legend(loc='best', shadow=True)\n",
        "\n",
        "ax[1].plot(H1.history['accuracy'], color='b', label=\"Training Accuracy\")\n",
        "ax[1].plot(H1.history['val_accuracy'], color='r',label=\"Testing Accuracy\")\n",
        "legend = ax[1].legend(loc='best', shadow=True) "
      ],
      "metadata": {
        "id": "ws8swMlbtGHB",
        "colab": {
          "base_uri": "https://localhost:8080/",
          "height": 157
        },
        "outputId": "7c38fec5-225f-47a2-f74e-a2511b0903de"
      },
      "execution_count": null,
      "outputs": [
        {
          "output_type": "display_data",
          "data": {
            "image/png": "[encoded data removed]",
            "text/plain": [
              "<Figure size 1440x288 with 2 Axes>"
            ]
          },
          "metadata": {
            "needs_background": "light"
          }
        }
      ]
    },
    {
      "cell_type": "code",
      "source": [
        "from sklearn.metrics import classification_report\n",
        "ypred = model1.predict(test_aug)\n",
        "prediction = np.argmax(ypred, axis=1)\n",
        "print(classification_report(test_aug.classes, prediction))"
      ],
      "metadata": {
        "id": "wKMa4HDotJ2p",
        "colab": {
          "base_uri": "https://localhost:8080/"
        },
        "outputId": "9b844994-8250-4af1-ce84-69f4258a40f4"
      },
      "execution_count": null,
      "outputs": [
        {
          "output_type": "stream",
          "name": "stdout",
          "text": [
            "              precision    recall  f1-score   support\n",
            "\n",
            "           0       0.83      0.82      0.82       106\n",
            "           1       0.88      0.59      0.70       234\n",
            "           2       0.82      0.95      0.88       390\n",
            "           3       0.71      0.95      0.81        41\n",
            "\n",
            "    accuracy                           0.82       771\n",
            "   macro avg       0.81      0.83      0.80       771\n",
            "weighted avg       0.83      0.82      0.81       771\n",
            "\n"
          ]
        }
      ]
    },
    {
      "cell_type": "code",
      "source": [
        "# (to generate a SavedModel) \n",
        "model1.save('model12.h5')\n",
        "files.download('model12.h5')\n",
        "\n",
        "from google.colab import files\n"
      ],
      "metadata": {
        "id": "cLQUyUsgL3ks",
        "colab": {
          "base_uri": "https://localhost:8080/",
          "height": 17
        },
        "outputId": "301e9280-d89d-41ba-b398-0a239a119eb0"
      },
      "execution_count": null,
      "outputs": [
        {
          "output_type": "display_data",
          "data": {
            "application/javascript": [
              "\n",
              "    async function download(id, filename, size) {\n",
              "      if (!google.colab.kernel.accessAllowed) {\n",
              "        return;\n",
              "      }\n",
              "      const div = document.createElement('div');\n",
              "      const label = document.createElement('label');\n",
              "      label.textContent = `Downloading \"${filename}\": `;\n",
              "      div.appendChild(label);\n",
              "      const progress = document.createElement('progress');\n",
              "      progress.max = size;\n",
              "      div.appendChild(progress);\n",
              "      document.body.appendChild(div);\n",
              "\n",
              "      const buffers = [];\n",
              "      let downloaded = 0;\n",
              "\n",
              "      const channel = await google.colab.kernel.comms.open(id);\n",
              "      // Send a message to notify the kernel that we're ready.\n",
              "      channel.send({})\n",
              "\n",
              "      for await (const message of channel.messages) {\n",
              "        // Send a message to notify the kernel that we're ready.\n",
              "        channel.send({})\n",
              "        if (message.buffers) {\n",
              "          for (const buffer of message.buffers) {\n",
              "            buffers.push(buffer);\n",
              "            downloaded += buffer.byteLength;\n",
              "            progress.value = downloaded;\n",
              "          }\n",
              "        }\n",
              "      }\n",
              "      const blob = new Blob(buffers, {type: 'application/binary'});\n",
              "      const a = document.createElement('a');\n",
              "      a.href = window.URL.createObjectURL(blob);\n",
              "      a.download = filename;\n",
              "      div.appendChild(a);\n",
              "      a.click();\n",
              "      div.remove();\n",
              "    }\n",
              "  "
            ],
            "text/plain": [
              "<IPython.core.display.Javascript object>"
            ]
          },
          "metadata": {}
        },
        {
          "output_type": "display_data",
          "data": {
            "application/javascript": [
              "download(\"download_294e1d09-bc5d-4071-a9b9-5c4475cb528e\", \"model12.h5\", 5162104)"
            ],
            "text/plain": [
              "<IPython.core.display.Javascript object>"
            ]
          },
          "metadata": {}
        }
      ]
    },
    {
      "cell_type": "code",
      "source": [
        "# TULIS KODE ANDA DISINI\n",
        "from tensorflow.keras.models import Sequential\n",
        "from tensorflow.keras.layers import InputLayer, Dense, Conv2D, MaxPool2D, Flatten, BatchNormalization, Dropout\n",
        "from tensorflow.keras.optimizers import Adam\n",
        "\n",
        "# DEFINISIKAN MODEL ANDA DISINI\n",
        "\n",
        "#Feature Selection\n",
        "model2 = Sequential()\n",
        "\n",
        "model2.add(InputLayer(input_shape=[50,50,3]))\n",
        "model2.add(Conv2D(filters=32, kernel_size=3, strides=1, padding='same', activation='relu'))\n",
        "model2.add(MaxPool2D(pool_size=2, padding='same'))\n",
        "model2.add(Conv2D(filters=64, kernel_size=3, strides=1, padding='same', activation='relu'))\n",
        "model2.add(MaxPool2D(pool_size=2, padding='same'))\n",
        "model2.add(Conv2D(filters=128, kernel_size=3, strides=1, padding='same', activation='relu'))\n",
        "model2.add(MaxPool2D(pool_size=2, padding='same'))\n",
        "model2.add(Dropout(0.7))\n",
        "model2.add(BatchNormalization())\n",
        "model2.add(Flatten())\n",
        "\n",
        "#Fully Connected Layer\n",
        "model2.add(Dense(128, activation='relu'))\n",
        "model2.add(Dense(4, activation='softmax'))\n",
        "print(model2.summary())\n"
      ],
      "metadata": {
        "colab": {
          "base_uri": "https://localhost:8080/"
        },
        "id": "0yNzGj3lc4eB",
        "outputId": "5c68a8ac-78a7-444f-eb87-2bf19caabc0d"
      },
      "execution_count": null,
      "outputs": [
        {
          "output_type": "stream",
          "name": "stdout",
          "text": [
            "Model: \"sequential_3\"\n",
            "_________________________________________________________________\n",
            " Layer (type)                Output Shape              Param #   \n",
            "=================================================================\n",
            " conv2d_9 (Conv2D)           (None, 50, 50, 32)        896       \n",
            "                                                                 \n",
            " max_pooling2d_9 (MaxPooling  (None, 25, 25, 32)       0         \n",
            " 2D)                                                             \n",
            "                                                                 \n",
            " conv2d_10 (Conv2D)          (None, 25, 25, 64)        18496     \n",
            "                                                                 \n",
            " max_pooling2d_10 (MaxPoolin  (None, 13, 13, 64)       0         \n",
            " g2D)                                                            \n",
            "                                                                 \n",
            " conv2d_11 (Conv2D)          (None, 13, 13, 128)       73856     \n",
            "                                                                 \n",
            " max_pooling2d_11 (MaxPoolin  (None, 7, 7, 128)        0         \n",
            " g2D)                                                            \n",
            "                                                                 \n",
            " dropout_1 (Dropout)         (None, 7, 7, 128)         0         \n",
            "                                                                 \n",
            " batch_normalization_1 (Batc  (None, 7, 7, 128)        512       \n",
            " hNormalization)                                                 \n",
            "                                                                 \n",
            " flatten_3 (Flatten)         (None, 6272)              0         \n",
            "                                                                 \n",
            " dense_6 (Dense)             (None, 128)               802944    \n",
            "                                                                 \n",
            " dense_7 (Dense)             (None, 4)                 516       \n",
            "                                                                 \n",
            "=================================================================\n",
            "Total params: 897,220\n",
            "Trainable params: 896,964\n",
            "Non-trainable params: 256\n",
            "_________________________________________________________________\n",
            "None\n"
          ]
        }
      ]
    },
    {
      "cell_type": "code",
      "source": [
        "# Compile model\n",
        "from tensorflow.keras.optimizers import Adam\n",
        "\n",
        "model2.compile(optimizer=Adam(lr=0.0001), \n",
        "              loss='categorical_crossentropy', \n",
        "              metrics=['acc'])"
      ],
      "metadata": {
        "id": "ESBLcVP6d1vy"
      },
      "execution_count": null,
      "outputs": []
    },
    {
      "cell_type": "code",
      "source": [
        "H2 = model2.fit(train_aug,steps_per_epoch=10, epochs=50, validation_data=test_aug, validation_steps=10, verbose=2)"
      ],
      "metadata": {
        "colab": {
          "base_uri": "https://localhost:8080/"
        },
        "id": "zGoqNV88d6jT",
        "outputId": "34a0c65f-a4ae-4047-c567-2d92c3011030"
      },
      "execution_count": null,
      "outputs": [
        {
          "output_type": "stream",
          "name": "stdout",
          "text": [
            "Epoch 1/50\n",
            "10/10 - 15s - loss: 1.2952 - acc: 0.4656 - val_loss: 1.3897 - val_acc: 0.0000e+00 - 15s/epoch - 2s/step\n",
            "Epoch 2/50\n",
            "10/10 - 14s - loss: 1.2701 - acc: 0.5469 - val_loss: 1.3290 - val_acc: 0.6625 - 14s/epoch - 1s/step\n",
            "Epoch 3/50\n",
            "10/10 - 14s - loss: 1.0510 - acc: 0.6031 - val_loss: 1.3190 - val_acc: 0.6625 - 14s/epoch - 1s/step\n",
            "Epoch 4/50\n",
            "10/10 - 14s - loss: 1.0546 - acc: 0.6000 - val_loss: 1.3254 - val_acc: 0.5562 - 14s/epoch - 1s/step\n",
            "Epoch 5/50\n",
            "10/10 - 12s - loss: 1.1328 - acc: 0.5469 - val_loss: 1.3216 - val_acc: 0.5531 - 12s/epoch - 1s/step\n",
            "Epoch 6/50\n",
            "10/10 - 14s - loss: 1.0599 - acc: 0.6125 - val_loss: 1.3076 - val_acc: 0.6125 - 14s/epoch - 1s/step\n",
            "Epoch 7/50\n",
            "10/10 - 14s - loss: 1.0194 - acc: 0.6062 - val_loss: 1.3005 - val_acc: 0.6438 - 14s/epoch - 1s/step\n",
            "Epoch 8/50\n",
            "10/10 - 15s - loss: 1.0824 - acc: 0.5625 - val_loss: 1.2933 - val_acc: 0.6125 - 15s/epoch - 2s/step\n",
            "Epoch 9/50\n",
            "10/10 - 14s - loss: 1.1131 - acc: 0.5719 - val_loss: 1.2891 - val_acc: 0.5938 - 14s/epoch - 1s/step\n",
            "Epoch 10/50\n",
            "10/10 - 15s - loss: 0.9848 - acc: 0.6094 - val_loss: 1.2960 - val_acc: 0.4969 - 15s/epoch - 1s/step\n",
            "Epoch 11/50\n",
            "10/10 - 14s - loss: 0.8229 - acc: 0.7031 - val_loss: 1.2890 - val_acc: 0.4031 - 14s/epoch - 1s/step\n",
            "Epoch 12/50\n",
            "10/10 - 14s - loss: 0.9069 - acc: 0.6313 - val_loss: 1.2967 - val_acc: 0.4594 - 14s/epoch - 1s/step\n",
            "Epoch 13/50\n",
            "10/10 - 14s - loss: 0.9124 - acc: 0.6452 - val_loss: 1.3084 - val_acc: 0.2313 - 14s/epoch - 1s/step\n",
            "Epoch 14/50\n",
            "10/10 - 14s - loss: 0.8160 - acc: 0.6875 - val_loss: 1.3011 - val_acc: 0.2969 - 14s/epoch - 1s/step\n",
            "Epoch 15/50\n",
            "10/10 - 12s - loss: 0.9932 - acc: 0.6000 - val_loss: 1.3175 - val_acc: 0.2219 - 12s/epoch - 1s/step\n",
            "Epoch 16/50\n",
            "10/10 - 14s - loss: 0.7699 - acc: 0.7250 - val_loss: 1.3412 - val_acc: 0.1187 - 14s/epoch - 1s/step\n",
            "Epoch 17/50\n",
            "10/10 - 12s - loss: 0.8764 - acc: 0.6625 - val_loss: 1.3536 - val_acc: 0.1594 - 12s/epoch - 1s/step\n",
            "Epoch 18/50\n",
            "10/10 - 12s - loss: 0.9257 - acc: 0.6250 - val_loss: 1.3299 - val_acc: 0.2594 - 12s/epoch - 1s/step\n",
            "Epoch 19/50\n",
            "10/10 - 15s - loss: 0.8520 - acc: 0.6781 - val_loss: 1.3338 - val_acc: 0.1094 - 15s/epoch - 1s/step\n",
            "Epoch 20/50\n",
            "10/10 - 14s - loss: 0.8196 - acc: 0.7161 - val_loss: 1.3616 - val_acc: 0.0531 - 14s/epoch - 1s/step\n",
            "Epoch 21/50\n",
            "10/10 - 15s - loss: 0.8421 - acc: 0.7000 - val_loss: 1.3306 - val_acc: 0.1281 - 15s/epoch - 1s/step\n",
            "Epoch 22/50\n",
            "10/10 - 16s - loss: 0.7973 - acc: 0.6906 - val_loss: 1.3093 - val_acc: 0.1781 - 16s/epoch - 2s/step\n",
            "Epoch 23/50\n",
            "10/10 - 15s - loss: 0.8053 - acc: 0.6750 - val_loss: 1.3461 - val_acc: 0.1187 - 15s/epoch - 1s/step\n",
            "Epoch 24/50\n",
            "10/10 - 12s - loss: 0.8110 - acc: 0.6906 - val_loss: 1.3479 - val_acc: 0.1281 - 12s/epoch - 1s/step\n",
            "Epoch 25/50\n",
            "10/10 - 12s - loss: 0.9023 - acc: 0.6687 - val_loss: 1.3424 - val_acc: 0.0531 - 12s/epoch - 1s/step\n",
            "Epoch 26/50\n",
            "10/10 - 14s - loss: 0.8088 - acc: 0.6531 - val_loss: 1.3552 - val_acc: 0.0969 - 14s/epoch - 1s/step\n",
            "Epoch 27/50\n",
            "10/10 - 15s - loss: 0.8444 - acc: 0.6719 - val_loss: 1.3804 - val_acc: 0.0875 - 15s/epoch - 1s/step\n",
            "Epoch 28/50\n",
            "10/10 - 12s - loss: 0.7806 - acc: 0.6781 - val_loss: 1.3075 - val_acc: 0.0875 - 12s/epoch - 1s/step\n",
            "Epoch 29/50\n",
            "10/10 - 13s - loss: 0.9164 - acc: 0.6656 - val_loss: 1.2997 - val_acc: 0.1187 - 13s/epoch - 1s/step\n",
            "Epoch 30/50\n",
            "10/10 - 14s - loss: 0.7732 - acc: 0.7031 - val_loss: 1.3612 - val_acc: 0.1094 - 14s/epoch - 1s/step\n",
            "Epoch 31/50\n",
            "10/10 - 14s - loss: 0.7577 - acc: 0.7031 - val_loss: 1.3632 - val_acc: 0.1125 - 14s/epoch - 1s/step\n",
            "Epoch 32/50\n",
            "10/10 - 15s - loss: 0.7455 - acc: 0.7156 - val_loss: 1.3671 - val_acc: 0.1031 - 15s/epoch - 1s/step\n",
            "Epoch 33/50\n",
            "10/10 - 16s - loss: 0.8379 - acc: 0.6774 - val_loss: 1.3538 - val_acc: 0.1813 - 16s/epoch - 2s/step\n",
            "Epoch 34/50\n",
            "10/10 - 13s - loss: 0.7988 - acc: 0.6812 - val_loss: 1.3052 - val_acc: 0.1844 - 13s/epoch - 1s/step\n",
            "Epoch 35/50\n",
            "10/10 - 14s - loss: 0.7399 - acc: 0.6906 - val_loss: 1.3751 - val_acc: 0.0812 - 14s/epoch - 1s/step\n",
            "Epoch 36/50\n",
            "10/10 - 14s - loss: 0.7723 - acc: 0.6750 - val_loss: 1.3479 - val_acc: 0.1469 - 14s/epoch - 1s/step\n",
            "Epoch 37/50\n",
            "10/10 - 12s - loss: 0.7820 - acc: 0.6844 - val_loss: 1.2794 - val_acc: 0.3031 - 12s/epoch - 1s/step\n",
            "Epoch 38/50\n",
            "10/10 - 14s - loss: 0.7324 - acc: 0.7437 - val_loss: 1.2733 - val_acc: 0.2969 - 14s/epoch - 1s/step\n",
            "Epoch 39/50\n",
            "10/10 - 12s - loss: 0.8137 - acc: 0.6562 - val_loss: 1.2851 - val_acc: 0.2438 - 12s/epoch - 1s/step\n",
            "Epoch 40/50\n",
            "10/10 - 14s - loss: 0.7679 - acc: 0.6687 - val_loss: 1.3070 - val_acc: 0.2188 - 14s/epoch - 1s/step\n",
            "Epoch 41/50\n",
            "10/10 - 12s - loss: 0.7507 - acc: 0.7094 - val_loss: 1.3743 - val_acc: 0.1125 - 12s/epoch - 1s/step\n",
            "Epoch 42/50\n",
            "10/10 - 14s - loss: 0.6337 - acc: 0.7563 - val_loss: 1.3464 - val_acc: 0.1156 - 14s/epoch - 1s/step\n",
            "Epoch 43/50\n",
            "10/10 - 16s - loss: 0.7181 - acc: 0.7188 - val_loss: 1.3535 - val_acc: 0.1187 - 16s/epoch - 2s/step\n",
            "Epoch 44/50\n",
            "10/10 - 12s - loss: 0.7161 - acc: 0.7156 - val_loss: 1.3530 - val_acc: 0.1375 - 12s/epoch - 1s/step\n",
            "Epoch 45/50\n",
            "10/10 - 13s - loss: 0.7744 - acc: 0.6844 - val_loss: 1.3315 - val_acc: 0.1688 - 13s/epoch - 1s/step\n",
            "Epoch 46/50\n",
            "10/10 - 13s - loss: 0.7800 - acc: 0.6656 - val_loss: 1.2329 - val_acc: 0.2812 - 13s/epoch - 1s/step\n",
            "Epoch 47/50\n",
            "10/10 - 12s - loss: 0.7895 - acc: 0.6781 - val_loss: 1.4243 - val_acc: 0.1406 - 12s/epoch - 1s/step\n",
            "Epoch 48/50\n",
            "10/10 - 12s - loss: 0.7214 - acc: 0.7406 - val_loss: 1.5115 - val_acc: 0.0844 - 12s/epoch - 1s/step\n",
            "Epoch 49/50\n",
            "10/10 - 13s - loss: 0.7238 - acc: 0.7188 - val_loss: 1.3116 - val_acc: 0.2094 - 13s/epoch - 1s/step\n",
            "Epoch 50/50\n",
            "10/10 - 12s - loss: 0.6784 - acc: 0.7500 - val_loss: 1.2961 - val_acc: 0.2156 - 12s/epoch - 1s/step\n"
          ]
        }
      ]
    },
    {
      "cell_type": "code",
      "source": [
        "%matplotlib inline\n",
        "import numpy as np\n",
        "import matplotlib.pyplot as plt\n",
        "plt.style.use(\"ggplot\")\n",
        "plt.figure()\n",
        "plt.plot(np.arange(0, 50), H2.history[\"loss\"], label=\"train_loss\")\n",
        "plt.plot(np.arange(0, 50), H2.history[\"val_loss\"], label=\"val_loss\")\n",
        "plt.title(\"Loss Plot 3\")\n",
        "plt.xlabel(\"Epoch 3\")\n",
        "plt.ylabel(\"Loss\")\n",
        "plt.legend()\n",
        "plt.show()"
      ],
      "metadata": {
        "colab": {
          "base_uri": "https://localhost:8080/",
          "height": 299
        },
        "id": "EmlHbbnjd8PK",
        "outputId": "c6c45d8e-a0b6-48c6-b0b9-01aea6a199b5"
      },
      "execution_count": null,
      "outputs": [
        {
          "output_type": "display_data",
          "data": {
            "image/png": "[encoded data removed]",
            "text/plain": [
              "<Figure size 432x288 with 1 Axes>"
            ]
          },
          "metadata": {}
        }
      ]
    },
    {
      "cell_type": "code",
      "source": [
        "plt.style.use(\"ggplot\")\n",
        "plt.figure()\n",
        "plt.plot(np.arange(0, 50), H2.history[\"acc\"], label=\"train_acc\")\n",
        "plt.plot(np.arange(0, 50), H2.history[\"val_acc\"], label=\"val_acc\")\n",
        "plt.title(\"Accuracy Plot 3\")\n",
        "plt.xlabel(\"Epoch 3\")\n",
        "plt.ylabel(\"Acc\")\n",
        "plt.legend()\n",
        "plt.show()"
      ],
      "metadata": {
        "colab": {
          "base_uri": "https://localhost:8080/",
          "height": 299
        },
        "id": "8NDhder7d-jE",
        "outputId": "8ec0527f-74c9-42ed-930d-3b7754636411"
      },
      "execution_count": null,
      "outputs": [
        {
          "output_type": "display_data",
          "data": {
            "image/png": "[encoded data removed]",
            "text/plain": [
              "<Figure size 432x288 with 1 Axes>"
            ]
          },
          "metadata": {}
        }
      ]
    },
    {
      "cell_type": "code",
      "source": [
        "from sklearn.metrics import classification_report\n",
        "ypred = model2.predict(test_aug)\n",
        "prediction3 = np.argmax(ypred, axis=1)\n",
        "print(classification_report(test_aug.classes, prediction3))"
      ],
      "metadata": {
        "colab": {
          "base_uri": "https://localhost:8080/"
        },
        "id": "Ywpc5vTUeAdb",
        "outputId": "b4f10474-8580-454a-ab15-4801d9846d71"
      },
      "execution_count": null,
      "outputs": [
        {
          "output_type": "stream",
          "name": "stdout",
          "text": [
            "              precision    recall  f1-score   support\n",
            "\n",
            "           0       0.68      0.37      0.48       106\n",
            "           1       0.84      0.16      0.27       234\n",
            "           2       0.60      0.97      0.74       390\n",
            "           3       0.71      0.71      0.71        41\n",
            "\n",
            "    accuracy                           0.63       771\n",
            "   macro avg       0.71      0.55      0.55       771\n",
            "weighted avg       0.69      0.63      0.56       771\n",
            "\n"
          ]
        }
      ]
    },
    {
      "cell_type": "code",
      "source": [
        "import tensorflow as tf\n",
        "model2.save('model3.h5')\n",
        "\n",
        "from google.colab import files\n",
        "files.download('model3.h5')"
      ],
      "metadata": {
        "colab": {
          "base_uri": "https://localhost:8080/",
          "height": 17
        },
        "id": "VugOBDZeeChQ",
        "outputId": "f130c4ee-9f13-48e0-ee73-01762315c203"
      },
      "execution_count": null,
      "outputs": [
        {
          "output_type": "display_data",
          "data": {
            "application/javascript": [
              "\n",
              "    async function download(id, filename, size) {\n",
              "      if (!google.colab.kernel.accessAllowed) {\n",
              "        return;\n",
              "      }\n",
              "      const div = document.createElement('div');\n",
              "      const label = document.createElement('label');\n",
              "      label.textContent = `Downloading \"${filename}\": `;\n",
              "      div.appendChild(label);\n",
              "      const progress = document.createElement('progress');\n",
              "      progress.max = size;\n",
              "      div.appendChild(progress);\n",
              "      document.body.appendChild(div);\n",
              "\n",
              "      const buffers = [];\n",
              "      let downloaded = 0;\n",
              "\n",
              "      const channel = await google.colab.kernel.comms.open(id);\n",
              "      // Send a message to notify the kernel that we're ready.\n",
              "      channel.send({})\n",
              "\n",
              "      for await (const message of channel.messages) {\n",
              "        // Send a message to notify the kernel that we're ready.\n",
              "        channel.send({})\n",
              "        if (message.buffers) {\n",
              "          for (const buffer of message.buffers) {\n",
              "            buffers.push(buffer);\n",
              "            downloaded += buffer.byteLength;\n",
              "            progress.value = downloaded;\n",
              "          }\n",
              "        }\n",
              "      }\n",
              "      const blob = new Blob(buffers, {type: 'application/binary'});\n",
              "      const a = document.createElement('a');\n",
              "      a.href = window.URL.createObjectURL(blob);\n",
              "      a.download = filename;\n",
              "      div.appendChild(a);\n",
              "      a.click();\n",
              "      div.remove();\n",
              "    }\n",
              "  "
            ],
            "text/plain": [
              "<IPython.core.display.Javascript object>"
            ]
          },
          "metadata": {}
        },
        {
          "output_type": "display_data",
          "data": {
            "application/javascript": [
              "download(\"download_2c445dcc-3180-4541-a483-0641aa5b46da\", \"model3.h5\", 10828328)"
            ],
            "text/plain": [
              "<IPython.core.display.Javascript object>"
            ]
          },
          "metadata": {}
        }
      ]
    }
  ]
}